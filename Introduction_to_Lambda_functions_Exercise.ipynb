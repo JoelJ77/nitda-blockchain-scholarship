{
  "cells": [
    {
      "cell_type": "markdown",
      "metadata": {
        "id": "view-in-github",
        "colab_type": "text"
      },
      "source": [
        "<a href=\"https://colab.research.google.com/github/JoelJ77/nitda-blockchain-scholarship/blob/main/Introduction_to_Lambda_functions_Exercise.ipynb\" target=\"_parent\"><img src=\"https://colab.research.google.com/assets/colab-badge.svg\" alt=\"Open In Colab\"/></a>"
      ]
    },
    {
      "cell_type": "markdown",
      "id": "cd88ea27",
      "metadata": {
        "id": "cd88ea27"
      },
      "source": [
        "<div align=\"center\" style=\" font-size: 80%; text-align: center; margin: 0 auto\">\n",
        "<img src=\"https://raw.githubusercontent.com/Explore-AI/Pictures/master/Python-Notebook-Banners/Exercise.png\"  style=\"display: block; margin-left: auto; margin-right: auto;\";/>\n",
        "</div>"
      ]
    },
    {
      "cell_type": "markdown",
      "id": "f662d169",
      "metadata": {
        "id": "f662d169"
      },
      "source": [
        "# Exercise: Introduction to lambda functions\n"
      ]
    },
    {
      "cell_type": "markdown",
      "id": "26af890c",
      "metadata": {
        "id": "26af890c"
      },
      "source": [
        "In this notebook, we demonstrate the principles and implementation of lambda functions in Python."
      ]
    },
    {
      "cell_type": "markdown",
      "id": "2d230d14",
      "metadata": {
        "tags": [],
        "id": "2d230d14"
      },
      "source": [
        "## Learning objectives\n",
        "\n",
        "In this train, we will learn:\n",
        "- How to write lambda functions in Python.\n",
        "- How to use lambda functions in conjunction with built-in Python functions."
      ]
    },
    {
      "cell_type": "markdown",
      "id": "de45a481",
      "metadata": {
        "id": "de45a481"
      },
      "source": [
        "## Exercises"
      ]
    },
    {
      "cell_type": "markdown",
      "metadata": {
        "id": "sw-0XzHHBsQW"
      },
      "source": [
        "### Exercise 1\n",
        "\n",
        "Given the function `root` which calculates the `y`th root of a number `x`, as shown below:"
      ],
      "id": "sw-0XzHHBsQW"
    },
    {
      "cell_type": "code",
      "execution_count": 1,
      "metadata": {
        "id": "_9W9gKgmBsQW"
      },
      "outputs": [],
      "source": [
        "def root(x,y):\n",
        "    return x**(1/y)"
      ],
      "id": "_9W9gKgmBsQW"
    },
    {
      "cell_type": "markdown",
      "metadata": {
        "id": "j9vwoAkPBsQX"
      },
      "source": [
        "Create an equivalent lambda function and name it `y_root`."
      ],
      "id": "j9vwoAkPBsQX"
    },
    {
      "cell_type": "code",
      "execution_count": null,
      "metadata": {
        "id": "MfEh_3ByBsQY"
      },
      "outputs": [],
      "source": [
        "# insert code here"
      ],
      "id": "MfEh_3ByBsQY"
    },
    {
      "cell_type": "markdown",
      "metadata": {
        "id": "Y9lMrL9CBsQY"
      },
      "source": [
        "Expected output:\n",
        "\n",
        "```\n",
        "y_root(25,2) == 5.0\n",
        "y_root(8,3) == 2.0\n",
        "```"
      ],
      "id": "Y9lMrL9CBsQY"
    },
    {
      "cell_type": "markdown",
      "metadata": {
        "id": "xHeUjIWbBsQY"
      },
      "source": [
        "### Exercise 2\n",
        "\n",
        "Write a lambda function named `sort`. This function should take a single argument: a list of numbers. It should return a new list with the numbers sorted in ascending order."
      ],
      "id": "xHeUjIWbBsQY"
    },
    {
      "cell_type": "code",
      "execution_count": null,
      "metadata": {
        "id": "qfqc3xX9BsQZ"
      },
      "outputs": [],
      "source": [
        "# insert code here"
      ],
      "id": "qfqc3xX9BsQZ"
    },
    {
      "cell_type": "markdown",
      "metadata": {
        "id": "AgujXjmNBsQZ"
      },
      "source": [
        "Expected output:\n",
        "```\n",
        "sort([6,2,3,9,1,5]) == [1, 2, 3, 5, 6, 9]\n",
        "```"
      ],
      "id": "AgujXjmNBsQZ"
    },
    {
      "cell_type": "markdown",
      "metadata": {
        "id": "7doOlMOBBsQZ"
      },
      "source": [
        "### Exercise 3\n",
        "\n",
        "Write a lambda function named `filtered_list` that makes use of the `filter()` function to print a `list` of integers that are greater than 9.\n",
        "\n",
        "Use `list1` as the input for the function."
      ],
      "id": "7doOlMOBBsQZ"
    },
    {
      "cell_type": "code",
      "execution_count": null,
      "metadata": {
        "id": "BDh4pBZTBsQZ"
      },
      "outputs": [],
      "source": [
        "list1 = [2, 6, 8, 10, 11, 4, 12, 7, 13, 17, 0, 3, 21]\n",
        "\n",
        "# insert code here"
      ],
      "id": "BDh4pBZTBsQZ"
    },
    {
      "cell_type": "markdown",
      "metadata": {
        "id": "D_kfcILMBsQa"
      },
      "source": [
        "Expected output:\n",
        "\n",
        "```\n",
        "[10, 11, 12, 13, 17, 21]\n",
        "```\n"
      ],
      "id": "D_kfcILMBsQa"
    },
    {
      "cell_type": "markdown",
      "metadata": {
        "id": "sS3Kr8KjBsQa"
      },
      "source": [
        "### Exercise 4\n",
        "\n",
        "Write a lambda function named `mapped_list` that makes use of the `map()` function to output the remainder after dividing each number in `list2` by 2.\n",
        "\n",
        "Use `list2` as the input for the function. Print the results as a list."
      ],
      "id": "sS3Kr8KjBsQa"
    },
    {
      "cell_type": "code",
      "execution_count": null,
      "metadata": {
        "id": "odGLn-PtBsQa"
      },
      "outputs": [],
      "source": [
        "list2 = [2, 6, 8, 10, 11, 4, 12, 7, 13, 17, 0, 3, 21]\n",
        "\n",
        "# insert code here"
      ],
      "id": "odGLn-PtBsQa"
    },
    {
      "cell_type": "markdown",
      "metadata": {
        "id": "oA4lyfxTBsQa"
      },
      "source": [
        "Expected output:\n",
        "\n",
        "```\n",
        "[0, 0, 0, 0, 1, 0, 0, 1, 1, 1, 0, 1, 1]\n",
        "```"
      ],
      "id": "oA4lyfxTBsQa"
    },
    {
      "cell_type": "markdown",
      "id": "555dea0d",
      "metadata": {
        "id": "555dea0d"
      },
      "source": [
        "## Solutions"
      ]
    },
    {
      "cell_type": "markdown",
      "id": "9ff8f391",
      "metadata": {
        "id": "9ff8f391"
      },
      "source": [
        "### Exercise 1\n",
        "\n",
        "This lambda function `y_root` takes two arguments, `x` and `y`, and computes the `y`th root of `x`."
      ]
    },
    {
      "cell_type": "code",
      "execution_count": 2,
      "id": "ad52ad95",
      "metadata": {
        "id": "ad52ad95"
      },
      "outputs": [],
      "source": [
        "y_root = lambda x, y: x**(1/y)"
      ]
    },
    {
      "cell_type": "markdown",
      "id": "a10363b6",
      "metadata": {
        "id": "a10363b6"
      },
      "source": [
        "### Exercise 2\n",
        "\n",
        "To create a lambda function named `sort` that sorts a list of numbers in ascending order, we can use Python's built-in `sorted` function within the lambda.\n"
      ]
    },
    {
      "cell_type": "code",
      "execution_count": 1,
      "id": "09386d51",
      "metadata": {
        "id": "09386d51"
      },
      "outputs": [],
      "source": [
        "sort = lambda numbers: sorted(numbers)"
      ]
    },
    {
      "cell_type": "markdown",
      "metadata": {
        "id": "hKwmLgZtBsQc"
      },
      "source": [
        "### Exercise 3\n",
        "\n",
        "This code defines a lambda function inside the `filter()` function to filter elements greater than 9 from `list1`. It then converts the filtered result into a list and stores the result in `filtered_list`.\n"
      ],
      "id": "hKwmLgZtBsQc"
    },
    {
      "cell_type": "code",
      "execution_count": 2,
      "metadata": {
        "colab": {
          "base_uri": "https://localhost:8080/"
        },
        "id": "fliZKufFBsQc",
        "outputId": "8a39e534-9e23-4ec4-d10f-c13eb0f09ec7"
      },
      "outputs": [
        {
          "output_type": "stream",
          "name": "stdout",
          "text": [
            "[10, 11, 12, 13, 17, 21]\n"
          ]
        }
      ],
      "source": [
        "list1 = [2, 6, 8, 10, 11, 4, 12, 7, 13, 17, 0, 3, 21]\n",
        "\n",
        "filtered_list = list(filter(lambda x: x > 9, list1))\n",
        "\n",
        "print(filtered_list)"
      ],
      "id": "fliZKufFBsQc"
    },
    {
      "cell_type": "markdown",
      "metadata": {
        "id": "X0X5LlScBsQc"
      },
      "source": [
        "### Exercise 4\n",
        "\n",
        "Our lambda function takes an input `x` and calculates the remainder when `x` is divided by `2` (`x % 2`). We use the `map()` function to apply this lambda function to each element of `list2`. This results in a mapped object that contains the remainders for each element. To obtain the final result as a list, we convert the mapped object to a list using `list()` and print the results.\n"
      ],
      "id": "X0X5LlScBsQc"
    },
    {
      "cell_type": "code",
      "execution_count": 3,
      "metadata": {
        "colab": {
          "base_uri": "https://localhost:8080/"
        },
        "id": "8RaJkEopBsQc",
        "outputId": "83323c26-b563-4216-f153-372a3742a52c"
      },
      "outputs": [
        {
          "output_type": "stream",
          "name": "stdout",
          "text": [
            "[0, 0, 0, 0, 1, 0, 0, 1, 1, 1, 0, 1, 1]\n"
          ]
        }
      ],
      "source": [
        "list2 = [2, 6, 8, 10, 11, 4, 12, 7, 13, 17, 0, 3, 21]\n",
        "\n",
        "mapped_list = list(map(lambda x: x % 2, list2))\n",
        "\n",
        "print(mapped_list)"
      ],
      "id": "8RaJkEopBsQc"
    },
    {
      "cell_type": "markdown",
      "id": "26fd094b-0fee-46f1-a4b8-73766813c42b",
      "metadata": {
        "tags": [],
        "id": "26fd094b-0fee-46f1-a4b8-73766813c42b"
      },
      "source": [
        "#  \n",
        "\n",
        "<div align=\"center\" style=\" font-size: 80%; text-align: center; margin: 0 auto\">\n",
        "<img src=\"https://raw.githubusercontent.com/Explore-AI/Pictures/refs/heads/master/ALX_banners/ALX_Navy.png\"  style=\"width:140px\";/>\n",
        "</div>"
      ]
    }
  ],
  "metadata": {
    "kernelspec": {
      "display_name": "Python 3 (ipykernel)",
      "language": "python",
      "name": "python3"
    },
    "language_info": {
      "codemirror_mode": {
        "name": "ipython",
        "version": 3
      },
      "file_extension": ".py",
      "mimetype": "text/x-python",
      "name": "python",
      "nbconvert_exporter": "python",
      "pygments_lexer": "ipython3",
      "version": "3.11.5"
    },
    "colab": {
      "provenance": [],
      "include_colab_link": true
    }
  },
  "nbformat": 4,
  "nbformat_minor": 5
}