{
  "cells": [
    {
      "cell_type": "markdown",
      "metadata": {
        "id": "view-in-github",
        "colab_type": "text"
      },
      "source": [
        "<a href=\"https://colab.research.google.com/github/JoelJ77/nitda-blockchain-scholarship/blob/main/Data_types_and_operators_exercise.ipynb\" target=\"_parent\"><img src=\"https://colab.research.google.com/assets/colab-badge.svg\" alt=\"Open In Colab\"/></a>"
      ]
    },
    {
      "cell_type": "markdown",
      "metadata": {
        "id": "mqJfVxm2pzJn"
      },
      "source": [
        "<div align=\"center\" style=\" font-size: 80%; text-align: center; margin: 0 auto\">\n",
        "<img src=\"https://raw.githubusercontent.com/Explore-AI/Pictures/master/Python-Notebook-Banners/Exercise.png\"  style=\"display: block; margin-left: auto; margin-right: auto;\";/>\n",
        "</div>"
      ],
      "id": "mqJfVxm2pzJn"
    },
    {
      "cell_type": "markdown",
      "id": "f662d169",
      "metadata": {
        "id": "f662d169"
      },
      "source": [
        "# Exercise: Data types and operators\n"
      ]
    },
    {
      "cell_type": "markdown",
      "id": "26af890c",
      "metadata": {
        "id": "26af890c"
      },
      "source": [
        "In this exercise, we'll get comfortable with using the different data types we've been introduced to as well as using the correct data types and operators to solve problems.\n",
        "\n"
      ]
    },
    {
      "cell_type": "markdown",
      "id": "2d230d14",
      "metadata": {
        "tags": [],
        "id": "2d230d14"
      },
      "source": [
        "## Learning objectives\n",
        "\n",
        "In this train, we will practise:\n",
        "- How to declare variables, perform basic arithmetic operations, and print results using Python.\n",
        "- String manipulation, type casting, and solving practical problems."
      ]
    },
    {
      "cell_type": "markdown",
      "metadata": {
        "id": "NXTuYkc3pzJv"
      },
      "source": [
        "## Outline\n",
        "\n",
        "1. [Exercises](#exercises)\n",
        "    * [Exercise 1](#exercise-1)\n",
        "    * [Exercise 2](#exercise-2)\n",
        "    * [Exercise 3](#exercise-3)\n",
        "    * [Exercise 4](#exercise-4)\n",
        "    * [Comprehensive exercise](#comprehensive-exercise)\n",
        "2. [Solutions](#solutions)\n",
        "    * [Exercise 1](#exercise-1)\n",
        "    * [Exercise 2](#exercise-2)\n",
        "    * [Exercise 3](#exercise-3)\n",
        "    * [Exercise 4](#exercise-4)\n",
        "    * [Comprehensive exercise](#comprehensive-exercise)"
      ],
      "id": "NXTuYkc3pzJv"
    },
    {
      "cell_type": "markdown",
      "metadata": {
        "id": "V2DoQZDlpzJw"
      },
      "source": [
        "## Exercises"
      ],
      "id": "V2DoQZDlpzJw"
    },
    {
      "cell_type": "markdown",
      "id": "5a0b7683",
      "metadata": {
        "tags": [],
        "id": "5a0b7683"
      },
      "source": [
        "### Exercise 1\n",
        "\n",
        "Declare two variables, `num1` and `num2`, and assign them values of `15` and `7`, respectively. Calculate and store the result of their sum, difference, product, and division (as floating-point number), in separate variables. Print the newly created variables."
      ]
    },
    {
      "cell_type": "code",
      "execution_count": null,
      "metadata": {
        "id": "1aqzX4ObpzJy"
      },
      "outputs": [],
      "source": [
        "# Your solution here..."
      ],
      "id": "1aqzX4ObpzJy"
    },
    {
      "cell_type": "markdown",
      "metadata": {
        "id": "fUX3V0iYpzJ0"
      },
      "source": [
        "### Exercise 2\n",
        "\n",
        "Create two string variables, `first_name` and `last_name`, with your first and last names. Concatenate them to form a full name and assign it to a new variable `full_name`. Print the `full_name` in uppercase.\n"
      ],
      "id": "fUX3V0iYpzJ0"
    },
    {
      "cell_type": "code",
      "execution_count": null,
      "metadata": {
        "id": "J9EThTsKpzJ1"
      },
      "outputs": [],
      "source": [
        "# Your solution here..."
      ],
      "id": "J9EThTsKpzJ1"
    },
    {
      "cell_type": "markdown",
      "metadata": {
        "id": "f_asI2gWpzJ1"
      },
      "source": [
        "### Exercise 3\n",
        "\n",
        "You have a variable `num_of_books` storing the number of books you have read this month, but it's currently in the form of a string. Create a new variable `books_read` by casting `num_of_books` to an integer. Then calculate the average number of books read per week, assuming there are four weeks in a month."
      ],
      "id": "f_asI2gWpzJ1"
    },
    {
      "cell_type": "code",
      "execution_count": null,
      "metadata": {
        "id": "bQNlRUqfpzJ1"
      },
      "outputs": [],
      "source": [
        "# Your solution here...\n",
        "\n",
        "num_of_books = \"15\""
      ],
      "id": "bQNlRUqfpzJ1"
    },
    {
      "cell_type": "markdown",
      "metadata": {
        "id": "8G4znjnupzJ2"
      },
      "source": [
        "### Exercise 4\n",
        "\n",
        "We have been given the following information about a person:\n",
        "\n",
        "- Name: John Doe\n",
        "- Age: 25\n",
        "- Height: 1.75 metres\n",
        "- Weight: 68.5 kilograms\n",
        "\n",
        "Create variables of appropriate data types to store this information. Then calculate the Body Mass Index (BMI) using the formula:\n",
        "\n",
        "$BMI = \\frac{{\\text{{Weight}}}}{{\\text{{Height}}^2}}$\n",
        "\n",
        "Print the result."
      ],
      "id": "8G4znjnupzJ2"
    },
    {
      "cell_type": "code",
      "execution_count": null,
      "metadata": {
        "id": "jyUYRYL3pzJ2"
      },
      "outputs": [],
      "source": [
        "# Your solution here..."
      ],
      "id": "jyUYRYL3pzJ2"
    },
    {
      "cell_type": "markdown",
      "metadata": {
        "id": "ojElHj3IpzJ2"
      },
      "source": [
        "### Comprehensive exercise\n",
        "\n",
        "You are tasked with creating a program to manage inventory for a store. The program should have the following features:\n",
        "\n",
        "1. Create variables to store the following information:\n",
        "   - Product name (string)\n",
        "   - Initial quantity in stock (integer)\n",
        "   - Price per unit (float)\n",
        "   - Discount percentage (float)\n",
        "\n",
        "2. Perform the following operations:\n",
        "   - Calculate the total value of the initial stock (quantity * price per unit).\n",
        "   - Apply the discount to the total value and calculate the discounted value of stock.\n",
        "   - Update the quantity in stock based on new stock received (assume a shipment of 30 units).\n",
        "\n",
        "3. Display the results:\n",
        "   - Print a summary message that includes the product name, initial quantity, price per unit, discount percentage, total value, discounted value, and the updated quantity in stock."
      ],
      "id": "ojElHj3IpzJ2"
    },
    {
      "cell_type": "code",
      "execution_count": null,
      "metadata": {
        "id": "N1q17O5-pzJ3"
      },
      "outputs": [],
      "source": [
        "# Given the variables\n",
        "product_name = \"Widget XYZ\"\n",
        "initial_quantity = 100\n",
        "price_per_unit = 12.50\n",
        "discount_percentage = 0.15\n",
        "\n",
        "# Your solution here..."
      ],
      "id": "N1q17O5-pzJ3"
    },
    {
      "cell_type": "markdown",
      "metadata": {
        "id": "RHfi3TxJpzJ3"
      },
      "source": [
        "## Solutions"
      ],
      "id": "RHfi3TxJpzJ3"
    },
    {
      "cell_type": "markdown",
      "metadata": {
        "id": "V-cjlaBwpzJ3"
      },
      "source": [
        "### Exercise 1\n"
      ],
      "id": "V-cjlaBwpzJ3"
    },
    {
      "cell_type": "code",
      "execution_count": 1,
      "metadata": {
        "colab": {
          "base_uri": "https://localhost:8080/"
        },
        "id": "gtiBWrA3pzJ4",
        "outputId": "91bc37e3-1be0-49e7-c699-af40efca7e2a"
      },
      "outputs": [
        {
          "output_type": "stream",
          "name": "stdout",
          "text": [
            "Sum:  22\n",
            "Difference:  8\n",
            "Product:  105\n",
            "Division:  2.142857142857143\n"
          ]
        }
      ],
      "source": [
        "num1 = 15\n",
        "num2 = 7\n",
        "\n",
        "# Perform operations\n",
        "sum_result = num1 + num2\n",
        "difference_result = num1 - num2\n",
        "product_result = num1 * num2\n",
        "division_result = float(num1) / num2\n",
        "\n",
        "# Print the variables\n",
        "print(\"Sum: \", sum_result)\n",
        "print(\"Difference: \", difference_result)\n",
        "print(\"Product: \", product_result)\n",
        "print(\"Division: \", division_result)"
      ],
      "id": "gtiBWrA3pzJ4"
    },
    {
      "cell_type": "markdown",
      "metadata": {
        "id": "TjAZ7pW-pzJ4"
      },
      "source": [
        "### Exercise 2"
      ],
      "id": "TjAZ7pW-pzJ4"
    },
    {
      "cell_type": "code",
      "execution_count": 2,
      "metadata": {
        "colab": {
          "base_uri": "https://localhost:8080/"
        },
        "id": "AwpNheuvpzJ4",
        "outputId": "b091153c-2c4b-4770-9692-3d3e8d73de50"
      },
      "outputs": [
        {
          "output_type": "stream",
          "name": "stdout",
          "text": [
            "Full name in uppercase: JANE DOE\n"
          ]
        }
      ],
      "source": [
        "# Variable creation\n",
        "first_name = \"Jane\"\n",
        "last_name = \"Doe\"\n",
        "\n",
        "# String manipulation and concatenation\n",
        "full_name = first_name + \" \" + last_name\n",
        "\n",
        "# Display result in uppercase\n",
        "print(\"Full name in uppercase:\", full_name.upper())"
      ],
      "id": "AwpNheuvpzJ4"
    },
    {
      "cell_type": "markdown",
      "metadata": {
        "id": "QrUTrjkvpzJ4"
      },
      "source": [
        "### Exercise 3"
      ],
      "id": "QrUTrjkvpzJ4"
    },
    {
      "cell_type": "code",
      "execution_count": 3,
      "metadata": {
        "colab": {
          "base_uri": "https://localhost:8080/"
        },
        "id": "xAv1XdjgpzJ5",
        "outputId": "ee7ed069-40b3-41dd-96b0-adef3da9ed21"
      },
      "outputs": [
        {
          "output_type": "stream",
          "name": "stdout",
          "text": [
            "You have read an average of 3.75 books per week.\n"
          ]
        }
      ],
      "source": [
        "num_of_books = \"15\"\n",
        "\n",
        "# Casting to integer\n",
        "books_read = int(num_of_books)\n",
        "\n",
        "# Calculate average books read per week\n",
        "weeks_in_month = 4\n",
        "average_books_per_week = books_read / weeks_in_month\n",
        "\n",
        "# Print result\n",
        "print(\"You have read an average of \" + str(average_books_per_week) + \" books per week.\")"
      ],
      "id": "xAv1XdjgpzJ5"
    },
    {
      "cell_type": "markdown",
      "metadata": {
        "id": "vrnggjuapzJ5"
      },
      "source": [
        "### Exercise 4"
      ],
      "id": "vrnggjuapzJ5"
    },
    {
      "cell_type": "code",
      "execution_count": 11,
      "metadata": {
        "colab": {
          "base_uri": "https://localhost:8080/"
        },
        "id": "iM1m1oa-pzJ5",
        "outputId": "bedd700d-b418-4e72-a8a9-e22bf4f52773"
      },
      "outputs": [
        {
          "output_type": "stream",
          "name": "stdout",
          "text": [
            "John Doe's BMI is: 22.367346938775512\n"
          ]
        }
      ],
      "source": [
        "# Given information\n",
        "name = \"John Doe\"\n",
        "age = 25\n",
        "height = 1.75  # in metres\n",
        "weight = 68.5  # in kilograms\n",
        "\n",
        "# Calculate BMI\n",
        "bmi = weight / (height ** 2)\n",
        "\n",
        "# Print result\n",
        "print(str(name) + \"\\'s BMI is: \"+ str(bmi))"
      ],
      "id": "iM1m1oa-pzJ5"
    },
    {
      "cell_type": "markdown",
      "id": "26fd094b-0fee-46f1-a4b8-73766813c42b",
      "metadata": {
        "tags": [],
        "id": "26fd094b-0fee-46f1-a4b8-73766813c42b"
      },
      "source": [
        "#  \n",
        "\n",
        "<div align=\"center\" style=\" font-size: 80%; text-align: center; margin: 0 auto\">\n",
        "<img src=\"https://raw.githubusercontent.com/Explore-AI/Pictures/refs/heads/master/ALX_banners/ALX_Navy.png\"  style=\"width:140px\";/>\n",
        "</div>"
      ]
    },
    {
      "cell_type": "markdown",
      "metadata": {
        "id": "nN605XH8pzJ5"
      },
      "source": [
        "### Comprehensive exercise\n",
        "\n",
        "This comprehensive exercise integrates the creation of variables with different data types, mathematical operations, and string manipulation. It simulates a real-world scenario of managing inventory for a store and requires us to apply various concepts in a practical context."
      ],
      "id": "nN605XH8pzJ5"
    },
    {
      "cell_type": "code",
      "execution_count": 13,
      "metadata": {
        "colab": {
          "base_uri": "https://localhost:8080/"
        },
        "id": "M5-9qUZNpzJ6",
        "outputId": "6740682c-bdd5-4261-c2b8-058cb19e9b22"
      },
      "outputs": [
        {
          "output_type": "stream",
          "name": "stdout",
          "text": [
            "Product name: Widget XYZ\n",
            "Initial quantity: 100\n",
            "Price per unit: $ 12.5\n",
            "Discount percentage: 15.0 %\n",
            "\n",
            "--- Results ---\n",
            "Total value of initial stock: $ 1250.0\n",
            "Discounted value: $ 1062.5\n",
            "Updated quantity in stock: 130\n"
          ]
        }
      ],
      "source": [
        "# Given the variables\n",
        "product_name = \"Widget XYZ\"\n",
        "initial_quantity = 100\n",
        "price_per_unit = 12.50\n",
        "discount_percentage = 0.15\n",
        "\n",
        "# Calculate total value of initial stock\n",
        "total_value = initial_quantity * price_per_unit\n",
        "\n",
        "# Apply discount and calculate discounted price\n",
        "discounted_value = total_value - (total_value * discount_percentage)\n",
        "\n",
        "# Update quantity based on new shipment\n",
        "new_shipment = 30\n",
        "updated_quantity = initial_quantity + new_shipment\n",
        "\n",
        "# Display results\n",
        "print(\"Product name:\", product_name)\n",
        "print(\"Initial quantity:\", initial_quantity)\n",
        "print(\"Price per unit: $\", price_per_unit)\n",
        "print(\"Discount percentage:\", discount_percentage * 100, \"%\")\n",
        "\n",
        "print(\"\\n--- Results ---\")\n",
        "print(\"Total value of initial stock: $\", total_value)\n",
        "print(\"Discounted value: $\", discounted_value)\n",
        "print(\"Updated quantity in stock:\", updated_quantity)"
      ],
      "id": "M5-9qUZNpzJ6"
    }
  ],
  "metadata": {
    "kernelspec": {
      "display_name": "Python 3 (ipykernel)",
      "language": "python",
      "name": "python3"
    },
    "language_info": {
      "codemirror_mode": {
        "name": "ipython",
        "version": 3
      },
      "file_extension": ".py",
      "mimetype": "text/x-python",
      "name": "python",
      "nbconvert_exporter": "python",
      "pygments_lexer": "ipython3",
      "version": "3.9.6"
    },
    "colab": {
      "provenance": [],
      "include_colab_link": true
    }
  },
  "nbformat": 4,
  "nbformat_minor": 5
}