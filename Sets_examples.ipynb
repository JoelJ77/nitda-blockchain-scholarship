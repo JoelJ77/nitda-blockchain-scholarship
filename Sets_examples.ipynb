{
  "cells": [
    {
      "cell_type": "markdown",
      "metadata": {
        "id": "view-in-github",
        "colab_type": "text"
      },
      "source": [
        "<a href=\"https://colab.research.google.com/github/JoelJ77/nitda-blockchain-scholarship/blob/main/Sets_examples.ipynb\" target=\"_parent\"><img src=\"https://colab.research.google.com/assets/colab-badge.svg\" alt=\"Open In Colab\"/></a>"
      ]
    },
    {
      "cell_type": "markdown",
      "id": "2c9df63a",
      "metadata": {
        "id": "2c9df63a"
      },
      "source": [
        "<div align=\"center\" style=\" font-size: 80%; text-align: center; margin: 0 auto\">\n",
        "<img src=\"https://raw.githubusercontent.com/Explore-AI/Pictures/master/Python-Notebook-Banners/Examples.png\"  style=\"display: block; margin-left: auto; margin-right: auto;\";/>\n",
        "</div>"
      ]
    },
    {
      "cell_type": "markdown",
      "id": "f662d169",
      "metadata": {
        "id": "f662d169"
      },
      "source": [
        "# Examples: Sets\n"
      ]
    },
    {
      "cell_type": "markdown",
      "id": "26af890c",
      "metadata": {
        "id": "26af890c"
      },
      "source": [
        "In this notebook, we will look at how to create sets and some of the ways we can manipulate them."
      ]
    },
    {
      "cell_type": "markdown",
      "id": "2d230d14",
      "metadata": {
        "tags": [],
        "id": "2d230d14"
      },
      "source": [
        "## Learning objectives\n",
        "\n",
        "By the end of this train, you should:\n",
        "- Know how to create a set and confirm its type.\n",
        "- Know how to check membership in a set.\n",
        "- Understand some set characteristics such as mutability and duplicates.\n",
        "- Be familiar with certain set operations."
      ]
    },
    {
      "cell_type": "markdown",
      "id": "e6d60bbf",
      "metadata": {
        "id": "e6d60bbf"
      },
      "source": [
        "## Examples"
      ]
    },
    {
      "cell_type": "markdown",
      "id": "bb83e75d",
      "metadata": {
        "id": "bb83e75d"
      },
      "source": [
        "### 1. Create a set\n",
        "\n",
        "We create a set by assigning a **group of comma-separated values** enclosed **within curly brackets** to a variable."
      ]
    },
    {
      "cell_type": "code",
      "execution_count": 1,
      "id": "30f39494",
      "metadata": {
        "colab": {
          "base_uri": "https://localhost:8080/"
        },
        "id": "30f39494",
        "outputId": "918496b2-b249-42a0-8436-1e3d30fe48f1"
      },
      "outputs": [
        {
          "output_type": "stream",
          "name": "stdout",
          "text": [
            "{'Giraffe', 'Rabbit', 'Bear', 'Fox', 'Elephant'}\n"
          ]
        }
      ],
      "source": [
        "# Create a set, defined within curly brackets\n",
        "eats_plants = {\"Giraffe\", \"Elephant\", \"Bear\", \"Rabbit\", \"Fox\"}\n",
        "print(eats_plants)"
      ]
    },
    {
      "cell_type": "markdown",
      "id": "e157b7d5",
      "metadata": {
        "id": "e157b7d5"
      },
      "source": [
        "We can also use the `set()` constructor to create a set from other iterables such as lists."
      ]
    },
    {
      "cell_type": "code",
      "execution_count": 2,
      "id": "9720fed2",
      "metadata": {
        "colab": {
          "base_uri": "https://localhost:8080/"
        },
        "id": "9720fed2",
        "outputId": "ee2c00da-7293-4125-888e-6deba2d0a5ef"
      },
      "outputs": [
        {
          "output_type": "stream",
          "name": "stdout",
          "text": [
            "{'Lion', 'Hawk', 'Fox', 'Tiger', 'Bear'}\n"
          ]
        }
      ],
      "source": [
        "# Create a set from a list using the set constructor\n",
        "eats_meat = set([\"Lion\", \"Tiger\", \"Bear\", \"Hawk\", \"Fox\", \"Lion\"])\n",
        "print(eats_meat)"
      ]
    },
    {
      "cell_type": "markdown",
      "id": "5e516252",
      "metadata": {
        "id": "5e516252"
      },
      "source": [
        "**Note:** The set will retain **only unique elements** and any duplicates in the list will be removed."
      ]
    },
    {
      "cell_type": "markdown",
      "id": "c872c671",
      "metadata": {
        "id": "c872c671"
      },
      "source": [
        "### 2. Set type\n",
        "\n",
        "If we want to confirm that our variable is of the `set` type, we can pass the variable name to the `type()` function."
      ]
    },
    {
      "cell_type": "code",
      "execution_count": 3,
      "id": "29f9fad0",
      "metadata": {
        "colab": {
          "base_uri": "https://localhost:8080/"
        },
        "id": "29f9fad0",
        "outputId": "12fdb955-5ec6-4990-882b-c08a6e78ba6b"
      },
      "outputs": [
        {
          "output_type": "execute_result",
          "data": {
            "text/plain": [
              "set"
            ]
          },
          "metadata": {},
          "execution_count": 3
        }
      ],
      "source": [
        "# Check the type of the variable eats_plants\n",
        "type(eats_plants)"
      ]
    },
    {
      "cell_type": "markdown",
      "id": "553015f8",
      "metadata": {
        "id": "553015f8"
      },
      "source": [
        "The output `set` confirms that we have created a set."
      ]
    },
    {
      "cell_type": "markdown",
      "id": "74fa7a08",
      "metadata": {
        "id": "74fa7a08"
      },
      "source": [
        "### 3. Check membership in a set\n",
        "\n",
        "Sets are **unordered**, which means elements are not assigned indexes. Therefore, they **do not support indexing** to access specific elements.\n",
        "\n",
        "However, we can check for the presence of an element in a set using the `in` keyword. If present, `True` is returned."
      ]
    },
    {
      "cell_type": "code",
      "execution_count": 4,
      "id": "aec1439f",
      "metadata": {
        "colab": {
          "base_uri": "https://localhost:8080/"
        },
        "id": "aec1439f",
        "outputId": "a8bc2942-0b59-4372-fdd7-d07b932a9a58"
      },
      "outputs": [
        {
          "output_type": "execute_result",
          "data": {
            "text/plain": [
              "True"
            ]
          },
          "metadata": {},
          "execution_count": 4
        }
      ],
      "source": [
        "# Checking if the element \"Lion\" is in the set eats_meat\n",
        "\"Lion\" in eats_meat"
      ]
    },
    {
      "cell_type": "code",
      "execution_count": 5,
      "id": "9da39f24",
      "metadata": {
        "colab": {
          "base_uri": "https://localhost:8080/"
        },
        "id": "9da39f24",
        "outputId": "7900e227-6d9d-4c6b-bd83-c436fccf11a9"
      },
      "outputs": [
        {
          "output_type": "execute_result",
          "data": {
            "text/plain": [
              "False"
            ]
          },
          "metadata": {},
          "execution_count": 5
        }
      ],
      "source": [
        "# Checking if the element \"Elephant\" is in set eats_meat\n",
        "\"Elephant\" in eats_meat"
      ]
    },
    {
      "cell_type": "markdown",
      "id": "8f459e1c",
      "metadata": {
        "id": "8f459e1c"
      },
      "source": [
        "### 4. Duplicates\n",
        "\n",
        "Since sets are unordered, they **do not allow duplicates**.\n",
        "\n",
        "Items with the same value are considered to be the same thing and will only be listed once."
      ]
    },
    {
      "cell_type": "code",
      "execution_count": 6,
      "id": "27648a32",
      "metadata": {
        "colab": {
          "base_uri": "https://localhost:8080/"
        },
        "id": "27648a32",
        "outputId": "2a7eaf54-e136-4143-a473-29cfa98b5cc2"
      },
      "outputs": [
        {
          "output_type": "stream",
          "name": "stdout",
          "text": [
            "{'Hawk', 'Lion', 'Tiger', 'Bear', 'Fox'}\n"
          ]
        }
      ],
      "source": [
        "# Set containing duplicates\n",
        "eats_meat = {\"Lion\", \"Tiger\", \"Bear\", \"Hawk\", \"Fox\", \"Lion\"}\n",
        "print(eats_meat)"
      ]
    },
    {
      "cell_type": "markdown",
      "id": "0c8f5db0",
      "metadata": {
        "id": "0c8f5db0"
      },
      "source": [
        "### 5. Modification\n",
        "\n",
        "Sets are also **mutable**. They support various methods for **adding** and **removing** elements."
      ]
    },
    {
      "cell_type": "markdown",
      "id": "a6356123",
      "metadata": {
        "id": "a6356123"
      },
      "source": [
        "#### a) Adding elements:\n",
        "\n",
        "- `add()`: This adds a single element to the set.\n",
        "- `update()`: This adds elements from an iterable, such as lists and other sets, to the set."
      ]
    },
    {
      "cell_type": "code",
      "execution_count": 7,
      "id": "af21fd73",
      "metadata": {
        "colab": {
          "base_uri": "https://localhost:8080/"
        },
        "id": "af21fd73",
        "outputId": "de5b8a78-1837-47d6-b8d5-3fa5b13963ee"
      },
      "outputs": [
        {
          "output_type": "stream",
          "name": "stdout",
          "text": [
            "{'Giraffe', 'Cow', 'Rabbit', 'Bear', 'Fox', 'Elephant'}\n"
          ]
        }
      ],
      "source": [
        "# Add the element \"Cow\" to the set eats_plants\n",
        "eats_plants.add(\"Cow\")\n",
        "print(eats_plants)"
      ]
    },
    {
      "cell_type": "code",
      "execution_count": 8,
      "id": "9f3df4b9",
      "metadata": {
        "colab": {
          "base_uri": "https://localhost:8080/"
        },
        "id": "9f3df4b9",
        "outputId": "26a98a74-0b4f-4e94-9f39-706287e5a1a2"
      },
      "outputs": [
        {
          "output_type": "stream",
          "name": "stdout",
          "text": [
            "{'Hawk', 'Cheetah', 'Leopard', 'Lion', 'Tiger', 'Bear', 'Fox'}\n"
          ]
        }
      ],
      "source": [
        "# Add multiple elements from another set\n",
        "eats_meat.update({\"Leopard\", \"Cheetah\"})\n",
        "print(eats_meat)"
      ]
    },
    {
      "cell_type": "markdown",
      "id": "976a9ad8",
      "metadata": {
        "id": "976a9ad8"
      },
      "source": [
        "#### b) Removing elements:\n",
        "\n",
        "- `remove()`: This removes a specified element and it will raise an error if the element is not present.\n",
        "- `discard()`: This removes a specified element but it will not raise an error if the element is not present."
      ]
    },
    {
      "cell_type": "code",
      "execution_count": 9,
      "id": "5acca7bf",
      "metadata": {
        "colab": {
          "base_uri": "https://localhost:8080/"
        },
        "id": "5acca7bf",
        "outputId": "eeb3c64f-28f6-4e4f-9ae9-ee0b68104845"
      },
      "outputs": [
        {
          "output_type": "stream",
          "name": "stdout",
          "text": [
            "{'Giraffe', 'Cow', 'Bear', 'Fox', 'Elephant'}\n"
          ]
        }
      ],
      "source": [
        "# Remove the element \"Rabbit\" from set eats_plants\n",
        "eats_plants.remove(\"Rabbit\")\n",
        "print(eats_plants)"
      ]
    },
    {
      "cell_type": "code",
      "execution_count": 12,
      "id": "3bcd11df",
      "metadata": {
        "colab": {
          "base_uri": "https://localhost:8080/"
        },
        "id": "3bcd11df",
        "outputId": "6593f88e-7a14-42cd-e843-fd546c2089cb"
      },
      "outputs": [
        {
          "output_type": "stream",
          "name": "stdout",
          "text": [
            "{'Giraffe', 'Cow', 'Bear', 'Fox', 'Elephant'}\n"
          ]
        }
      ],
      "source": [
        "# Remove the element \"Deer\" from set eats_plants\n",
        "eats_plants.discard(\"Deer\")\n",
        "print(eats_plants)"
      ]
    },
    {
      "cell_type": "markdown",
      "id": "e19eda22",
      "metadata": {
        "id": "e19eda22"
      },
      "source": [
        "**Note:** We can add and remove elements from a set but we **cannot change the value of an existing element** in the set."
      ]
    },
    {
      "cell_type": "markdown",
      "id": "0d003289",
      "metadata": {
        "id": "0d003289"
      },
      "source": [
        "### 6. Set operations\n",
        "\n",
        "The speed and efficiency we get from set operations are due to sets containing unique elements. We can easily combine and compare sets using a few basic operations, discussed below."
      ]
    },
    {
      "cell_type": "markdown",
      "id": "bfc77ddc",
      "metadata": {
        "id": "bfc77ddc"
      },
      "source": [
        "#### a) Union – `union()`:\n",
        "\n",
        "This returns a new set containing a combination of all unique elements from both sets."
      ]
    },
    {
      "cell_type": "code",
      "execution_count": 13,
      "id": "6f76240a",
      "metadata": {
        "colab": {
          "base_uri": "https://localhost:8080/"
        },
        "id": "6f76240a",
        "outputId": "da69f522-975d-4c0a-b44f-4e7897df7699"
      },
      "outputs": [
        {
          "output_type": "stream",
          "name": "stdout",
          "text": [
            "{'Giraffe', 'Hawk', 'Lion', 'Cow', 'Fox', 'Cheetah', 'Tiger', 'Bear', 'Leopard', 'Elephant'}\n"
          ]
        }
      ],
      "source": [
        "# Create a new set with all the animals from the eats_meat and eats_plants sets\n",
        "all_animals = eats_meat.union(eats_plants)\n",
        "print(all_animals)"
      ]
    },
    {
      "cell_type": "markdown",
      "id": "85ee2ad9",
      "metadata": {
        "id": "85ee2ad9"
      },
      "source": [
        "#### b) Intersection – `intersection()`:\n",
        "\n",
        "This returns a new set containing common elements between two sets."
      ]
    },
    {
      "cell_type": "code",
      "execution_count": 14,
      "id": "33945f82",
      "metadata": {
        "colab": {
          "base_uri": "https://localhost:8080/"
        },
        "id": "33945f82",
        "outputId": "87d90403-5488-4869-bebc-ec270057475a"
      },
      "outputs": [
        {
          "output_type": "stream",
          "name": "stdout",
          "text": [
            "{'Bear', 'Fox'}\n"
          ]
        }
      ],
      "source": [
        "# Create a new set with animals that are common in both eats_meat and eats_plants sets\n",
        "omnivores = eats_meat.intersection(eats_plants)\n",
        "print(omnivores)"
      ]
    },
    {
      "cell_type": "markdown",
      "id": "8efcbadf",
      "metadata": {
        "id": "8efcbadf"
      },
      "source": [
        "#### c) Difference – `difference()`:\n",
        "\n",
        "This returns a new set containing elements that are only present in the first set but not in the second set.\n"
      ]
    },
    {
      "cell_type": "code",
      "execution_count": 15,
      "id": "fae37e8d",
      "metadata": {
        "colab": {
          "base_uri": "https://localhost:8080/"
        },
        "id": "fae37e8d",
        "outputId": "de204fe6-d350-428d-c40d-2ca60be95d54"
      },
      "outputs": [
        {
          "output_type": "stream",
          "name": "stdout",
          "text": [
            "{'Hawk', 'Lion', 'Cheetah', 'Tiger', 'Leopard'}\n"
          ]
        }
      ],
      "source": [
        "# Create a new set with animals that are only in the eats_meat set\n",
        "carnivore_only = eats_meat.difference(eats_plants)\n",
        "print(carnivore_only)"
      ]
    },
    {
      "cell_type": "markdown",
      "id": "585000f0",
      "metadata": {
        "id": "585000f0"
      },
      "source": [
        "#### d) Subset – `issubset()`:\n",
        "\n",
        "This returns `True` if the set is a subset of another set, otherwise it will return `False`."
      ]
    },
    {
      "cell_type": "code",
      "execution_count": 16,
      "id": "54f8ae82",
      "metadata": {
        "colab": {
          "base_uri": "https://localhost:8080/"
        },
        "id": "54f8ae82",
        "outputId": "4c89b7b1-b534-4f98-e7aa-427c15daaf86"
      },
      "outputs": [
        {
          "output_type": "stream",
          "name": "stdout",
          "text": [
            "True\n"
          ]
        }
      ],
      "source": [
        "# Check if eats_plants is a subset of all_animals\n",
        "eats_plants_subset = eats_plants.issubset(all_animals)\n",
        "print(eats_plants_subset)"
      ]
    },
    {
      "cell_type": "markdown",
      "id": "e2897b8a",
      "metadata": {
        "id": "e2897b8a"
      },
      "source": [
        "### 7. Other set methods\n",
        "\n",
        "Other built-in methods we can use when working with sets:"
      ]
    },
    {
      "cell_type": "markdown",
      "id": "9e42975e",
      "metadata": {
        "id": "9e42975e"
      },
      "source": [
        "#### a) len( )\n",
        "\n",
        "We use the `len()` function to determine the number of elements in a set."
      ]
    },
    {
      "cell_type": "code",
      "execution_count": 17,
      "id": "b6ea02a9",
      "metadata": {
        "colab": {
          "base_uri": "https://localhost:8080/"
        },
        "id": "b6ea02a9",
        "outputId": "a3257705-0d0e-4523-c7a0-fbf966ffb34b"
      },
      "outputs": [
        {
          "output_type": "stream",
          "name": "stdout",
          "text": [
            "No. of animals that are exclusively carnivorous: 5\n"
          ]
        }
      ],
      "source": [
        "# Return the number of elements in carnivore_only\n",
        "Length_of_set = len(carnivore_only)\n",
        "print(f\"No. of animals that are exclusively carnivorous: {Length_of_set}\")"
      ]
    },
    {
      "cell_type": "markdown",
      "id": "8f031006",
      "metadata": {
        "id": "8f031006"
      },
      "source": [
        "#### b) clear()\n",
        "\n",
        "We use the `clear()` function to remove all elements from a set."
      ]
    },
    {
      "cell_type": "code",
      "execution_count": 18,
      "id": "78ee5fd5",
      "metadata": {
        "colab": {
          "base_uri": "https://localhost:8080/"
        },
        "id": "78ee5fd5",
        "outputId": "ad9dcd4c-3829-4b84-951a-00a79596a676"
      },
      "outputs": [
        {
          "output_type": "stream",
          "name": "stdout",
          "text": [
            "set()\n"
          ]
        }
      ],
      "source": [
        "# Remove all elements from set all_animals\n",
        "all_animals.clear()\n",
        "print(all_animals)"
      ]
    },
    {
      "cell_type": "markdown",
      "id": "e9956efe",
      "metadata": {
        "tags": [],
        "id": "e9956efe"
      },
      "source": [
        "## Summary\n",
        "\n",
        "We have looked at ways of creating sets and manipulating them. Take time to explore other methods and operations that can be performed on sets."
      ]
    },
    {
      "cell_type": "markdown",
      "id": "26fd094b-0fee-46f1-a4b8-73766813c42b",
      "metadata": {
        "tags": [],
        "id": "26fd094b-0fee-46f1-a4b8-73766813c42b"
      },
      "source": [
        "#  \n",
        "\n",
        "<div align=\"center\" style=\" font-size: 80%; text-align: center; margin: 0 auto\">\n",
        "<img src=\"https://raw.githubusercontent.com/Explore-AI/Pictures/refs/heads/master/ALX_banners/ALX_Navy.png\"  style=\"width:140px\";/>\n",
        "</div>"
      ]
    }
  ],
  "metadata": {
    "kernelspec": {
      "display_name": "Python 3 (ipykernel)",
      "language": "python",
      "name": "python3"
    },
    "language_info": {
      "codemirror_mode": {
        "name": "ipython",
        "version": 3
      },
      "file_extension": ".py",
      "mimetype": "text/x-python",
      "name": "python",
      "nbconvert_exporter": "python",
      "pygments_lexer": "ipython3",
      "version": "3.11.4"
    },
    "colab": {
      "provenance": [],
      "include_colab_link": true
    }
  },
  "nbformat": 4,
  "nbformat_minor": 5
}