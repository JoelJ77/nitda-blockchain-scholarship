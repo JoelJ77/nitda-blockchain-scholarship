{
  "cells": [
    {
      "cell_type": "markdown",
      "metadata": {
        "id": "view-in-github",
        "colab_type": "text"
      },
      "source": [
        "<a href=\"https://colab.research.google.com/github/JoelJ77/nitda-blockchain-scholarship/blob/main/Classes_exercise.ipynb\" target=\"_parent\"><img src=\"https://colab.research.google.com/assets/colab-badge.svg\" alt=\"Open In Colab\"/></a>"
      ]
    },
    {
      "cell_type": "markdown",
      "id": "cd88ea27",
      "metadata": {
        "id": "cd88ea27"
      },
      "source": [
        "<div align=\"center\" style=\" font-size: 80%; text-align: center; margin: 0 auto\">\n",
        "<img src=\"https://raw.githubusercontent.com/Explore-AI/Pictures/master/Python-Notebook-Banners/Exercise.png\"  style=\"display: block; margin-left: auto; margin-right: auto;\";/>\n",
        "</div>"
      ]
    },
    {
      "cell_type": "markdown",
      "id": "f662d169",
      "metadata": {
        "id": "f662d169"
      },
      "source": [
        "# Exercise: Classes\n"
      ]
    },
    {
      "cell_type": "markdown",
      "id": "26af890c",
      "metadata": {
        "id": "26af890c"
      },
      "source": [
        "In this notebook, we'll be looking at the core principles of object-oriented programming (OOP), and what it means in the context of creating reusable code."
      ]
    },
    {
      "cell_type": "markdown",
      "id": "3259ef42",
      "metadata": {
        "id": "3259ef42"
      },
      "source": [
        "> **Nudge**: Before you look at the solutions, try your best to work out the problems yourself. The internet is your friend."
      ]
    },
    {
      "cell_type": "markdown",
      "id": "2d230d14",
      "metadata": {
        "tags": [],
        "id": "2d230d14"
      },
      "source": [
        "## Learning objectives\n",
        "\n",
        "In this train, you should be able to:\n",
        "- Understand how the core principles of classes can be used in practice and what it means for writing reusable code."
      ]
    },
    {
      "cell_type": "markdown",
      "id": "de45a481",
      "metadata": {
        "id": "de45a481"
      },
      "source": [
        "## Exercises"
      ]
    },
    {
      "cell_type": "markdown",
      "id": "5a0b7683",
      "metadata": {
        "tags": [],
        "id": "5a0b7683"
      },
      "source": [
        "### Encapsulation\n",
        "Create a Python class called `Ecosystem` that represents an ecosystem. This class should have the following attributes:\n",
        "\n",
        "* `name` (string): The name of the ecosystem (e.g., \"Rainforest\", \"Savanna\").\n",
        "* `description` (string): A brief description of the ecosystem.\n",
        "* `biodiversity_index` (float): A numerical value representing the biodiversity index of the ecosystem (ranging from 0 to 1, where 1 indicates high biodiversity).\n",
        "\n",
        "Implement methods to:\n",
        "\n",
        "* Initialise an Ecosystem object with a name, description, and biodiversity index.\n",
        "* Display the details of the ecosystem, including its name, description, and biodiversity index.\n",
        "* Update the description of the ecosystem."
      ]
    },
    {
      "cell_type": "code",
      "execution_count": null,
      "id": "c2ee76ec",
      "metadata": {
        "colab": {
          "base_uri": "https://localhost:8080/"
        },
        "id": "c2ee76ec",
        "outputId": "5c460a64-5de2-4d34-935b-09fe1b6c4ced"
      },
      "outputs": [
        {
          "output_type": "stream",
          "name": "stdout",
          "text": [
            "Ecosystem Details:\n",
            "Ecosystem Name: Rainforest\n",
            "Description: Lush and diverse tropical rainforest\n",
            "Biodiversity Index: 0.85\n",
            "\n",
            "Updated Ecosystem Description:\n",
            "Ecosystem Name: Rainforest\n",
            "Description: Diverse and vital tropical rainforest\n",
            "Biodiversity Index: 0.85\n"
          ]
        }
      ],
      "source": [
        "# insert code here\n",
        "class Ecosystem:\n",
        "    def __init__(self, name, description, biodiversity_index):\n",
        "        self.name = name\n",
        "        self.description = description\n",
        "        self.biodiversity_index = biodiversity_index\n",
        "\n",
        "    def display_details(self):\n",
        "        print(f\"Ecosystem Name: {self.name}\")\n",
        "        print(f\"Description: {self.description}\")\n",
        "        print(f\"Biodiversity Index: {self.biodiversity_index}\")\n",
        "\n",
        "    def update_description(self, new_description):\n",
        "        self.description = new_description\n",
        "\n",
        "# Create an Ecosystem object\n",
        "ecosystem = Ecosystem(\"Rainforest\", \"Lush and diverse tropical rainforest\", 0.85)\n",
        "\n",
        "# Display ecosystem details\n",
        "print(\"Ecosystem Details:\")\n",
        "ecosystem.display_details()\n",
        "\n",
        "# Update the ecosystem description\n",
        "ecosystem.update_description(\"Diverse and vital tropical rainforest\")\n",
        "\n",
        "# Display updated description\n",
        "print(\"\\nUpdated Ecosystem Description:\")\n",
        "ecosystem.display_details()"
      ]
    },
    {
      "cell_type": "markdown",
      "id": "dc9b7dc6",
      "metadata": {
        "id": "dc9b7dc6"
      },
      "source": [
        "### Inheritance\n",
        "Create a subclass of `Ecosystem` called `Forest` which should have the following additional attributes:\n",
        "\n",
        "* `tree_species` (list of strings): A list of tree species found in the forest (initially empty).\n",
        "* `carbon_sequestration_rate` (float): A numerical value representing the rate at which the forest sequesters carbon (measured in tons per year).\n",
        "\n",
        "\n",
        "Implement methods to:\n",
        "\n",
        "* Initialise a Forest object with a name, description, biodiversity index, and carbon sequestration rate.\n",
        "* Add a tree species to the list of tree species.\n",
        "* Display the tree species in the forest.\n",
        "\n"
      ]
    },
    {
      "cell_type": "code",
      "execution_count": null,
      "id": "ae48fab0",
      "metadata": {
        "colab": {
          "base_uri": "https://localhost:8080/"
        },
        "id": "ae48fab0",
        "outputId": "dbb1caa9-d9f3-447d-9e26-b505f1e47646"
      },
      "outputs": [
        {
          "output_type": "stream",
          "name": "stdout",
          "text": [
            "Forest Details:\n",
            "Ecosystem Name: Tropical Forest\n",
            "Description: Dense tropical forest with diverse wildlife\n",
            "Biodiversity Index: 0.75\n",
            "\n",
            "Tree Species in the Forest:\n",
            "Tree Species in the Forest: Mahogany, Teak, Oak\n"
          ]
        }
      ],
      "source": [
        "# insert code here\n",
        "class Forest(Ecosystem):\n",
        "    def __init__(self, name, description, biodiversity_index, carbon_sequestration_rate):\n",
        "        super().__init__(name, description, biodiversity_index)\n",
        "        self.tree_species = []\n",
        "        self.carbon_sequestration_rate = carbon_sequestration_rate\n",
        "\n",
        "    def add_tree_species(self, species):\n",
        "        self.tree_species.append(species)\n",
        "\n",
        "    def display_tree_species(self):\n",
        "        print(f\"Tree Species in the Forest: {', '.join(self.tree_species)}\")\n",
        "\n",
        "# Create a Forest object\n",
        "forest = Forest(\"Tropical Forest\", \"Dense tropical forest with diverse wildlife\", 0.75, 1000.0)\n",
        "\n",
        "# Display forest details\n",
        "print(\"Forest Details:\")\n",
        "forest.display_details()\n",
        "\n",
        "# Add tree species to the forest\n",
        "forest.add_tree_species(\"Mahogany\")\n",
        "forest.add_tree_species(\"Teak\")\n",
        "forest.add_tree_species(\"Oak\")\n",
        "\n",
        "# Display tree species in the forest\n",
        "print(\"\\nTree Species in the Forest:\")\n",
        "forest.display_tree_species()"
      ]
    },
    {
      "cell_type": "markdown",
      "id": "65d70bbf",
      "metadata": {
        "id": "65d70bbf"
      },
      "source": [
        "### Polymorphism\n",
        "Create a class called `Wildlife` that should have a method `habitat` that returns a string describing the habitat of the wildlife. Create two subclasses: `Mammal` and `Bird`. Each subclass should implement the `habitat()` method to describe the habitat of mammals and birds, respectively."
      ]
    },
    {
      "cell_type": "code",
      "execution_count": 9,
      "id": "abb3adda",
      "metadata": {
        "id": "abb3adda",
        "colab": {
          "base_uri": "https://localhost:8080/"
        },
        "outputId": "b1d29622-3f3d-44ff-e4d9-595d19d2207b"
      },
      "outputs": [
        {
          "output_type": "stream",
          "name": "stdout",
          "text": [
            "Habitat of Mammals:\n",
            "Mammals can be found in various habitats, including forests, grasslands, and deserts.\n",
            "\n",
            "Habitat of Birds:\n",
            "Birds inhabit a wide range of environments, including forests, wetlands, and urban areas.\n"
          ]
        }
      ],
      "source": [
        "# insert code here\n",
        "class Wildlife:\n",
        "    def habitat(self):\n",
        "        pass\n",
        "\n",
        "class Mammal(Wildlife):\n",
        "    def habitat(self):\n",
        "        return \"Mammals can be found in various habitats, including forests, grasslands, and deserts.\"\n",
        "\n",
        "class Bird(Wildlife):\n",
        "    def habitat(self):\n",
        "        return \"Birds inhabit a wide range of environments, including forests, wetlands, and urban areas.\"\n",
        "\n",
        "# Create Mammal and Bird objects\n",
        "mammal = Mammal()\n",
        "bird = Bird()\n",
        "\n",
        "# Describe the habitat of mammals and birds\n",
        "print(\"Habitat of Mammals:\")\n",
        "print(mammal.habitat())\n",
        "\n",
        "print(\"\\nHabitat of Birds:\")\n",
        "print(bird.habitat())"
      ]
    },
    {
      "cell_type": "markdown",
      "id": "21369664",
      "metadata": {
        "id": "21369664"
      },
      "source": [
        "### Abstraction\n",
        "Create an abstract base class called `ConservationEfforts` that should have an abstract method `implement_effort()` to describe how a specific conservation effort is implemented. Create two subclasses: `Reforestation` and `WildlifeProtection`. Each subclass should implement the `implement_effort() `method to describe how reforestation and wildlife protection efforts are implemented.\n",
        "\n",
        "**Hint:** You can use `from abc import ABC, abstractmethod` to create an abstract base class with an abstract method for abstraction."
      ]
    },
    {
      "cell_type": "code",
      "execution_count": 11,
      "id": "3db5e6cd",
      "metadata": {
        "id": "3db5e6cd",
        "colab": {
          "base_uri": "https://localhost:8080/"
        },
        "outputId": "6f440b3f-68b9-4b60-d88a-d128bd288c50"
      },
      "outputs": [
        {
          "output_type": "stream",
          "name": "stdout",
          "text": [
            "Reforestation Effort:\n",
            "Reforestation involves planting trees in deforested areas to restore ecosystems and combat climate change.\n",
            "\n",
            "Wildlife Protection Effort:\n",
            "Wildlife protection efforts focus on conserving endangered species and their habitats.\n"
          ]
        }
      ],
      "source": [
        "# insert code here\n",
        "from abc import ABC, abstractmethod\n",
        "\n",
        "class ConservationEfforts(ABC):\n",
        "    @abstractmethod\n",
        "    def implement_effort(self):\n",
        "        pass\n",
        "\n",
        "class Reforestation(ConservationEfforts):\n",
        "    def implement_effort(self):\n",
        "        return \"Reforestation involves planting trees in deforested areas to restore ecosystems and combat climate change.\"\n",
        "\n",
        "class WildlifeProtection(ConservationEfforts):\n",
        "    def implement_effort(self):\n",
        "        return \"Wildlife protection efforts focus on conserving endangered species and their habitats.\"\n",
        "\n",
        "# Create Reforestation and WildlifeProtection objects\n",
        "reforestation = Reforestation()\n",
        "wildlife_protection = WildlifeProtection()\n",
        "\n",
        "# Describe the implementation of conservation efforts\n",
        "print(\"Reforestation Effort:\")\n",
        "print(reforestation.implement_effort())\n",
        "\n",
        "print(\"\\nWildlife Protection Effort:\")\n",
        "print(wildlife_protection.implement_effort())"
      ]
    },
    {
      "cell_type": "markdown",
      "id": "555dea0d",
      "metadata": {
        "id": "555dea0d"
      },
      "source": [
        "## Solutions"
      ]
    },
    {
      "cell_type": "markdown",
      "id": "9ff8f391",
      "metadata": {
        "id": "9ff8f391"
      },
      "source": [
        "### Encapsulation\n"
      ]
    },
    {
      "cell_type": "code",
      "execution_count": null,
      "id": "ad52ad95",
      "metadata": {
        "id": "ad52ad95"
      },
      "outputs": [],
      "source": [
        "# insert code here\n",
        "class Ecosystem:\n",
        "    def __init__(self, name, description, biodiversity_index):\n",
        "        self.name = name\n",
        "        self.description = description\n",
        "        self.biodiversity_index = biodiversity_index\n",
        "\n",
        "    def display_details(self):\n",
        "        print(f\"Ecosystem Name: {self.name}\")\n",
        "        print(f\"Description: {self.description}\")\n",
        "        print(f\"Biodiversity Index: {self.biodiversity_index}\")\n",
        "\n",
        "    def update_description(self, new_description):\n",
        "        self.description = new_description\n",
        "\n",
        "# Create an Ecosystem object\n",
        "ecosystem = Ecosystem(\"Rainforest\", \"Lush and diverse tropical rainforest\", 0.85)\n",
        "\n",
        "# Display ecosystem details\n",
        "print(\"Ecosystem Details:\")\n",
        "ecosystem.display_details()\n",
        "\n",
        "# Update the ecosystem description\n",
        "ecosystem.update_description(\"Diverse and vital tropical rainforest\")\n",
        "\n",
        "# Display updated description\n",
        "print(\"\\nUpdated Ecosystem Description:\")\n",
        "ecosystem.display_details()"
      ]
    },
    {
      "cell_type": "markdown",
      "id": "1fbdb88a",
      "metadata": {
        "id": "1fbdb88a"
      },
      "source": [
        "We defined an `Ecosystem` class with attributes `name`, `description`, and `biodiversity_index` to encapsulate information about an ecosystem.\n",
        "* The `__init__` method initialises an Ecosystem object with the provided name, description, and biodiversity index.\n",
        "* The `display_details` method displays the details of the ecosystem, including its name, description, and biodiversity index.\n",
        "* The `update_description` method allows us to update the description of the ecosystem."
      ]
    },
    {
      "cell_type": "markdown",
      "id": "a10363b6",
      "metadata": {
        "id": "a10363b6"
      },
      "source": [
        "### Inheritance"
      ]
    },
    {
      "cell_type": "code",
      "execution_count": null,
      "id": "09386d51",
      "metadata": {
        "id": "09386d51"
      },
      "outputs": [],
      "source": [
        "class Forest(Ecosystem):\n",
        "    def __init__(self, name, description, biodiversity_index, carbon_sequestration_rate):\n",
        "        super().__init__(name, description, biodiversity_index)\n",
        "        self.tree_species = []\n",
        "        self.carbon_sequestration_rate = carbon_sequestration_rate\n",
        "\n",
        "    def add_tree_species(self, species):\n",
        "        self.tree_species.append(species)\n",
        "\n",
        "    def display_tree_species(self):\n",
        "        print(f\"Tree Species in the Forest: {', '.join(self.tree_species)}\")\n",
        "\n",
        "# Create a Forest object\n",
        "forest = Forest(\"Tropical Forest\", \"Dense tropical forest with diverse wildlife\", 0.75, 1000.0)\n",
        "\n",
        "# Display forest details\n",
        "print(\"Forest Details:\")\n",
        "forest.display_details()\n",
        "\n",
        "# Add tree species to the forest\n",
        "forest.add_tree_species(\"Mahogany\")\n",
        "forest.add_tree_species(\"Teak\")\n",
        "forest.add_tree_species(\"Oak\")\n",
        "\n",
        "# Display tree species in the forest\n",
        "print(\"\\nTree Species in the Forest:\")\n",
        "forest.display_tree_species()"
      ]
    },
    {
      "cell_type": "markdown",
      "id": "ff325262",
      "metadata": {
        "id": "ff325262"
      },
      "source": [
        "The `Forest` class inherits attributes from the `Ecosystem` class and adds additional attributes: `tree_species` and `carbon_sequestration_rate`.\n",
        "\n",
        "* The `__init__` method initialises a `Forest` object with the provided name, description, biodiversity index, and carbon sequestration rate.\n",
        "* The `add_tree_species` method allows us to add tree species to the list of tree species in the forest.\n",
        "* The `display_tree_species` method displays the tree species present in the forest."
      ]
    },
    {
      "cell_type": "markdown",
      "id": "acb767d0",
      "metadata": {
        "id": "acb767d0"
      },
      "source": [
        "### Polymorphism"
      ]
    },
    {
      "cell_type": "code",
      "execution_count": null,
      "id": "31f60b04",
      "metadata": {
        "id": "31f60b04"
      },
      "outputs": [],
      "source": [
        "class Wildlife:\n",
        "    def habitat(self):\n",
        "        pass\n",
        "\n",
        "class Mammal(Wildlife):\n",
        "    def habitat(self):\n",
        "        return \"Mammals can be found in various habitats, including forests, grasslands, and deserts.\"\n",
        "\n",
        "class Bird(Wildlife):\n",
        "    def habitat(self):\n",
        "        return \"Birds inhabit a wide range of environments, including forests, wetlands, and urban areas.\"\n",
        "\n",
        "# Create Mammal and Bird objects\n",
        "mammal = Mammal()\n",
        "bird = Bird()\n",
        "\n",
        "# Describe the habitat of mammals and birds\n",
        "print(\"Habitat of Mammals:\")\n",
        "print(mammal.habitat())\n",
        "\n",
        "print(\"\\nHabitat of Birds:\")\n",
        "print(bird.habitat())"
      ]
    },
    {
      "cell_type": "markdown",
      "id": "b20af6a7",
      "metadata": {
        "id": "b20af6a7"
      },
      "source": [
        "The `Wildlife` class defines a method `habitat`, which will be implemented differently in subclasses.\n",
        "\n",
        "We create two subclasses: `Mammal` and `Bird`.\n",
        "\n",
        "* The `habitat` method in the `Mammal` class describes the habitat of mammals, which can be found in various environments.\n",
        "* The `habitat` method in the `Bird` class describes the habitat of birds, which can inhabit a wide range of environments."
      ]
    },
    {
      "cell_type": "markdown",
      "id": "badefa1a",
      "metadata": {
        "id": "badefa1a"
      },
      "source": [
        "### Abstraction"
      ]
    },
    {
      "cell_type": "code",
      "execution_count": null,
      "id": "01257bf1",
      "metadata": {
        "id": "01257bf1"
      },
      "outputs": [],
      "source": [
        "from abc import ABC,\n",
        "\n",
        "class ConservationEfforts(ABC):\n",
        "    def implement_effort(self):\n",
        "        pass\n",
        "\n",
        "class Reforestation(ConservationEfforts):\n",
        "    def implement_effort(self):\n",
        "        return \"Reforestation involves planting trees in deforested areas to restore ecosystems and combat climate change.\"\n",
        "\n",
        "class WildlifeProtection(ConservationEfforts):\n",
        "    def implement_effort(self):\n",
        "        return \"Wildlife protection efforts focus on conserving endangered species and their habitats.\"\n",
        "\n",
        "# Create Reforestation and WildlifeProtection objects\n",
        "reforestation = Reforestation()\n",
        "wildlife_protection = WildlifeProtection()\n",
        "\n",
        "# Describe the implementation of conservation efforts\n",
        "print(\"Reforestation Effort:\")\n",
        "print(reforestation.implement_effort())\n",
        "\n",
        "print(\"\\nWildlife Protection Effort:\")\n",
        "print(wildlife_protection.implement_effort())"
      ]
    },
    {
      "cell_type": "markdown",
      "id": "f125793e",
      "metadata": {
        "id": "f125793e"
      },
      "source": [
        "The `ConservationEfforts` class defines an abstract method `implement_effort` that represents a generic conservation effort. We create two subclasses: `Reforestation` and `WildlifeProtection`.\n",
        "\n",
        "* The `Reforestation` class provides an implementation of the `implement_effort` method, describing the process of reforestation, which involves planting trees to restore ecosystems and combat climate change.\n",
        "* The `WildlifeProtection` class provides an implementation of the `implement_effort` method, describing the focus on conserving endangered species and their habitats in wildlife protection efforts."
      ]
    },
    {
      "cell_type": "markdown",
      "id": "26fd094b-0fee-46f1-a4b8-73766813c42b",
      "metadata": {
        "tags": [],
        "id": "26fd094b-0fee-46f1-a4b8-73766813c42b"
      },
      "source": [
        "#  \n",
        "\n",
        "<div align=\"center\" style=\" font-size: 80%; text-align: center; margin: 0 auto\">\n",
        "<img src=\"https://raw.githubusercontent.com/Explore-AI/Pictures/refs/heads/master/ALX_banners/ALX_Navy.png\"  style=\"width:140px\";/>\n",
        "</div>"
      ]
    }
  ],
  "metadata": {
    "kernelspec": {
      "display_name": "Python 3 (ipykernel)",
      "language": "python",
      "name": "python3"
    },
    "language_info": {
      "codemirror_mode": {
        "name": "ipython",
        "version": 3
      },
      "file_extension": ".py",
      "mimetype": "text/x-python",
      "name": "python",
      "nbconvert_exporter": "python",
      "pygments_lexer": "ipython3",
      "version": "3.9.6"
    },
    "colab": {
      "provenance": [],
      "include_colab_link": true
    }
  },
  "nbformat": 4,
  "nbformat_minor": 5
}