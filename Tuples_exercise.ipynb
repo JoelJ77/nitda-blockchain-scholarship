{
  "cells": [
    {
      "cell_type": "markdown",
      "metadata": {
        "id": "view-in-github",
        "colab_type": "text"
      },
      "source": [
        "<a href=\"https://colab.research.google.com/github/JoelJ77/nitda-blockchain-scholarship/blob/main/Tuples_exercise.ipynb\" target=\"_parent\"><img src=\"https://colab.research.google.com/assets/colab-badge.svg\" alt=\"Open In Colab\"/></a>"
      ]
    },
    {
      "cell_type": "markdown",
      "id": "1a8f72ba",
      "metadata": {
        "id": "1a8f72ba"
      },
      "source": [
        "<div align=\"center\" style=\" font-size: 80%; text-align: center; margin: 0 auto\">\n",
        "<img src=\"https://raw.githubusercontent.com/Explore-AI/Pictures/master/Python-Notebook-Banners/Exercise.png\"  style=\"display: block; margin-left: auto; margin-right: auto;\";/>\n",
        "</div>"
      ]
    },
    {
      "cell_type": "markdown",
      "id": "f662d169",
      "metadata": {
        "id": "f662d169"
      },
      "source": [
        "# Exercise: Tuples\n"
      ]
    },
    {
      "cell_type": "markdown",
      "id": "3fffe403",
      "metadata": {
        "id": "3fffe403"
      },
      "source": [
        "In this exercise, we are going to solve problems involving tuples."
      ]
    },
    {
      "cell_type": "markdown",
      "id": "2d230d14",
      "metadata": {
        "tags": [],
        "id": "2d230d14"
      },
      "source": [
        "## Learning objectives\n",
        "\n",
        "- Create, concatenate, and slice tuples.\n",
        "- Make use of tuple methods.\n",
        "- Unpack a tuple."
      ]
    },
    {
      "cell_type": "markdown",
      "id": "6d305bd2",
      "metadata": {
        "id": "6d305bd2"
      },
      "source": [
        "## Exercises"
      ]
    },
    {
      "cell_type": "markdown",
      "id": "5a0b7683",
      "metadata": {
        "tags": [],
        "id": "5a0b7683"
      },
      "source": [
        "### Exercise 1\n",
        "\n",
        "1. Create a tuple named `tree_tuple` containing three elements: `8`, `'apple'`, and `'Granny Smith'`.\n"
      ]
    },
    {
      "cell_type": "code",
      "execution_count": 3,
      "id": "ca40207e",
      "metadata": {
        "vscode": {
          "languageId": "plaintext"
        },
        "colab": {
          "base_uri": "https://localhost:8080/"
        },
        "id": "ca40207e",
        "outputId": "19a23c9b-24b0-4ee9-9c79-267751c369d6"
      },
      "outputs": [
        {
          "output_type": "stream",
          "name": "stdout",
          "text": [
            "('8', 'apple', 'Granny Smith')\n"
          ]
        },
        {
          "output_type": "execute_result",
          "data": {
            "text/plain": [
              "tuple"
            ]
          },
          "metadata": {},
          "execution_count": 3
        }
      ],
      "source": [
        "# insert your code here\n",
        "tree_tuple = ('8', 'apple', 'Granny Smith',)\n",
        "# to see the tuples\n",
        "print(tree_tuple)\n",
        "\n",
        "#type of tuple\n",
        "type(tree_tuple)"
      ]
    },
    {
      "cell_type": "markdown",
      "id": "5f37ca4c",
      "metadata": {
        "id": "5f37ca4c"
      },
      "source": [
        "Note: We can use the `type()` function to check that `tree_tuple` is, in fact, a tuple."
      ]
    },
    {
      "cell_type": "markdown",
      "id": "fb6d5acd",
      "metadata": {
        "id": "fb6d5acd"
      },
      "source": [
        "<br>\n",
        "\n",
        "2. Find the length of the tuple.\n"
      ]
    },
    {
      "cell_type": "code",
      "execution_count": 8,
      "id": "0b5ccea5",
      "metadata": {
        "colab": {
          "base_uri": "https://localhost:8080/"
        },
        "id": "0b5ccea5",
        "outputId": "46de3791-8a84-4e9a-ee1a-4dc9d3332b45"
      },
      "outputs": [
        {
          "output_type": "stream",
          "name": "stdout",
          "text": [
            "3\n"
          ]
        }
      ],
      "source": [
        "# insert your code here\n",
        "length_of_tuple = len(tree_tuple)\n",
        "print(tuple_length)"
      ]
    },
    {
      "cell_type": "markdown",
      "id": "83911c8e",
      "metadata": {
        "id": "83911c8e"
      },
      "source": [
        "<br>\n",
        "\n",
        "3. Access the second element, `'apple'`, in the `tree_tuple` using an index and assign the value to a variable called `fruit`. Print the variable."
      ]
    },
    {
      "cell_type": "code",
      "execution_count": 12,
      "id": "52f5bc48",
      "metadata": {
        "colab": {
          "base_uri": "https://localhost:8080/"
        },
        "id": "52f5bc48",
        "outputId": "9efa327f-25b4-478c-e5ae-0f4a639d210b"
      },
      "outputs": [
        {
          "output_type": "stream",
          "name": "stdout",
          "text": [
            "apple\n"
          ]
        }
      ],
      "source": [
        "# insert your code here\n",
        "\n",
        "fruit = tree_tuple[1]\n",
        "print(fruit)"
      ]
    },
    {
      "cell_type": "markdown",
      "id": "ab6f589c",
      "metadata": {
        "id": "ab6f589c"
      },
      "source": [
        "<br>\n",
        "\n",
        "4. Attempt to change the value of `'apple'` in `tree_tuple` to `'pear'` using assignment.\n"
      ]
    },
    {
      "cell_type": "code",
      "execution_count": null,
      "id": "0eb3a78f",
      "metadata": {
        "id": "0eb3a78f"
      },
      "outputs": [],
      "source": [
        "# insert your code here\n",
        "\n"
      ]
    },
    {
      "cell_type": "markdown",
      "id": "ed3af8cf",
      "metadata": {
        "id": "ed3af8cf"
      },
      "source": [
        " If you got an error, it's exactly what should happen! **Tuples are immutable** and we cannot alter their contents after creation.\n",
        "   \n",
        ""
      ]
    },
    {
      "cell_type": "markdown",
      "id": "9d80cde9",
      "metadata": {
        "id": "9d80cde9"
      },
      "source": [
        "<br>\n",
        "\n",
        "5. Create a new tuple called `text_only` and place the last two elements of `tree_tuple` into it."
      ]
    },
    {
      "cell_type": "code",
      "execution_count": 20,
      "id": "21fbb221",
      "metadata": {
        "colab": {
          "base_uri": "https://localhost:8080/"
        },
        "id": "21fbb221",
        "outputId": "19898ada-19bd-43f8-e0c6-b0a90e4d75e5"
      },
      "outputs": [
        {
          "output_type": "stream",
          "name": "stdout",
          "text": [
            "('apple', 'Granny Smith')\n"
          ]
        }
      ],
      "source": [
        "# insert your code here\n",
        "\n",
        "text_only = tree_tuple[1:3]\n",
        "print(text_only)"
      ]
    },
    {
      "cell_type": "markdown",
      "id": "5e148cac",
      "metadata": {
        "id": "5e148cac"
      },
      "source": [
        "<br>\n",
        "\n",
        "### Exercise 2\n",
        "\n",
        "1. Create two tuples: `fruit_summer` and `fruit_winter`, with elements (`'peach'`, `'apricot'`, `'plum'`) and (`'lemon'`, `'orange'`, `'grapefruit'`), respectively. Print the tuples to screen in the same print statement.\n"
      ]
    },
    {
      "cell_type": "code",
      "execution_count": 23,
      "id": "6aad0f85",
      "metadata": {
        "vscode": {
          "languageId": "plaintext"
        },
        "colab": {
          "base_uri": "https://localhost:8080/"
        },
        "id": "6aad0f85",
        "outputId": "1806d910-2aea-4d8b-a606-42e3f2e339df"
      },
      "outputs": [
        {
          "output_type": "stream",
          "name": "stdout",
          "text": [
            "('peach', 'apricot', 'plum') ('lemon', 'orange', 'grapefruit')\n"
          ]
        }
      ],
      "source": [
        "# insert your code here\n",
        "\n",
        "fruit_summer = ('peach', 'apricot', 'plum')\n",
        "fruit_winter = ('lemon', 'orange', 'grapefruit')\n",
        "print(fruit_summer,fruit_winter)"
      ]
    },
    {
      "cell_type": "markdown",
      "id": "7baad7aa",
      "metadata": {
        "id": "7baad7aa"
      },
      "source": [
        "<br>\n",
        "\n",
        "2. Combine these following two tuples, `fruit_summer` and `fruit_winter`, to form a new tuple, `all_fruit`. Print the new tuple to the screen."
      ]
    },
    {
      "cell_type": "code",
      "execution_count": 25,
      "id": "7dd8dce1",
      "metadata": {
        "colab": {
          "base_uri": "https://localhost:8080/"
        },
        "id": "7dd8dce1",
        "outputId": "84d474bd-ff6a-46a6-9693-42db8257c5cb"
      },
      "outputs": [
        {
          "output_type": "stream",
          "name": "stdout",
          "text": [
            "('peach', 'apricot', 'plum', 'lemon', 'orange', 'grapefruit')\n"
          ]
        }
      ],
      "source": [
        "# insert your code here\n",
        "\n",
        "all_fruit = fruit_summer + fruit_winter\n",
        "print(all_fruit)"
      ]
    },
    {
      "cell_type": "markdown",
      "id": "607ed006",
      "metadata": {
        "id": "607ed006"
      },
      "source": [
        "<br>\n",
        "\n",
        "3. Confirm how many times the element `'peach'` appears in `all_fruit`."
      ]
    },
    {
      "cell_type": "code",
      "execution_count": 27,
      "id": "5fa8890d",
      "metadata": {
        "colab": {
          "base_uri": "https://localhost:8080/"
        },
        "id": "5fa8890d",
        "outputId": "234d9452-6846-4f38-ee06-f24aef998c42"
      },
      "outputs": [
        {
          "output_type": "execute_result",
          "data": {
            "text/plain": [
              "1"
            ]
          },
          "metadata": {},
          "execution_count": 27
        }
      ],
      "source": [
        "# insert your code here\n",
        "all_fruit.count('peach')"
      ]
    },
    {
      "cell_type": "markdown",
      "id": "616c87fe",
      "metadata": {
        "id": "616c87fe"
      },
      "source": [
        "<br>\n",
        "\n",
        "4. Suppose we have the `combined_info` tuple shown in the block of code below, containing three elements – the colour of the fruit, the age of the tree, and the type of tree. We'd however like to work with these elements individually and need to create variables (colour, age, tree_type) for each of the elements in the tuple.  "
      ]
    },
    {
      "cell_type": "code",
      "execution_count": 35,
      "id": "ae5c21c1",
      "metadata": {
        "colab": {
          "base_uri": "https://localhost:8080/"
        },
        "id": "ae5c21c1",
        "outputId": "432738bb-c824-412a-bc62-9430f8764cea"
      },
      "outputs": [
        {
          "output_type": "stream",
          "name": "stdout",
          "text": [
            "yellow 5 lemon\n"
          ]
        }
      ],
      "source": [
        "# combined_info tuple\n",
        "combined_info = ('yellow', 5, 'lemon')\n",
        "\n",
        "# insert your code here\n",
        "colour, age, tree_type = combined_info\n",
        "print(colour, age, tree_type)"
      ]
    },
    {
      "cell_type": "markdown",
      "id": "68a84035",
      "metadata": {
        "id": "68a84035"
      },
      "source": [
        "Did you use an index to assign the values to variables? If so, also take a look at the solution provided later in this notebook for a fast way of assigning tuple elements to variables!"
      ]
    },
    {
      "cell_type": "markdown",
      "id": "fe04494e",
      "metadata": {
        "id": "fe04494e"
      },
      "source": [
        "<br>\n",
        "\n",
        "## Solutions"
      ]
    },
    {
      "cell_type": "markdown",
      "id": "6c41349e",
      "metadata": {
        "id": "6c41349e"
      },
      "source": [
        "### Exercise 1\n",
        "\n",
        "1. Create a tuple named `tree_tuple` containing three elements: `8`, `'apple'`, and `'Granny Smith'`.\n",
        "\n",
        "In order to create our tuple, we enclose the elements in **round brackets ()** and assign it to our variable."
      ]
    },
    {
      "cell_type": "code",
      "execution_count": 37,
      "id": "8b8b08f6",
      "metadata": {
        "vscode": {
          "languageId": "plaintext"
        },
        "colab": {
          "base_uri": "https://localhost:8080/"
        },
        "id": "8b8b08f6",
        "outputId": "bc02bac0-fcb0-43e3-ee1b-18432256b90c"
      },
      "outputs": [
        {
          "output_type": "stream",
          "name": "stdout",
          "text": [
            "(8, 'apple', 'Granny Smith')\n"
          ]
        }
      ],
      "source": [
        "# assign value to the tree_tuple\n",
        "tree_tuple = (8, 'apple', 'Granny Smith')\n",
        "\n",
        "# see what it looks like printed\n",
        "print(tree_tuple)"
      ]
    },
    {
      "cell_type": "code",
      "execution_count": 38,
      "id": "3e3b761d",
      "metadata": {
        "colab": {
          "base_uri": "https://localhost:8080/"
        },
        "id": "3e3b761d",
        "outputId": "e3635fae-dcb3-4273-8a8a-26a1eb8130da"
      },
      "outputs": [
        {
          "output_type": "execute_result",
          "data": {
            "text/plain": [
              "tuple"
            ]
          },
          "metadata": {},
          "execution_count": 38
        }
      ],
      "source": [
        "# confirm that we have created a tuple using the `type()` function\n",
        "type(tree_tuple)"
      ]
    },
    {
      "cell_type": "markdown",
      "id": "24ee3fd8",
      "metadata": {
        "id": "24ee3fd8"
      },
      "source": [
        "<br>\n",
        "\n",
        "2. Find the length of the tuple.\n",
        "\n",
        "We can use one of the built-in functions Python provides, `len()`, to determine the number of elements in the tuple."
      ]
    },
    {
      "cell_type": "code",
      "execution_count": 39,
      "id": "8efe03f8",
      "metadata": {
        "colab": {
          "base_uri": "https://localhost:8080/"
        },
        "id": "8efe03f8",
        "outputId": "1c62a30f-82d7-471d-bc26-82a3999dd437"
      },
      "outputs": [
        {
          "output_type": "execute_result",
          "data": {
            "text/plain": [
              "3"
            ]
          },
          "metadata": {},
          "execution_count": 39
        }
      ],
      "source": [
        "len(tree_tuple)"
      ]
    },
    {
      "cell_type": "markdown",
      "id": "6ca8d7ce",
      "metadata": {
        "id": "6ca8d7ce"
      },
      "source": [
        "<br>\n",
        "\n",
        "3. Access the second element, `'apple'`, in the `tree_tuple` using an index and assign the value to a variable called `fruit`. Print the variable.\n",
        "\n",
        "The index for a tuple starts at 0, meaning that in order to access the 2nd element, we should refer to position 1 in the square brackets."
      ]
    },
    {
      "cell_type": "code",
      "execution_count": 40,
      "id": "02f24ec0",
      "metadata": {
        "colab": {
          "base_uri": "https://localhost:8080/"
        },
        "id": "02f24ec0",
        "outputId": "761a7a72-e369-43d3-f30d-a761c09d82b6"
      },
      "outputs": [
        {
          "output_type": "stream",
          "name": "stdout",
          "text": [
            "apple\n"
          ]
        }
      ],
      "source": [
        "fruit = tree_tuple[1]\n",
        "print(fruit)"
      ]
    },
    {
      "cell_type": "markdown",
      "id": "2aca53ff",
      "metadata": {
        "id": "2aca53ff"
      },
      "source": [
        "<br>\n",
        "\n",
        "4. Attempt to change the value of `'apple'` in `tree_tuple` to `'pear'` using assignment.\n",
        "\n",
        "If tuples were mutable, we would be able to assign a value to an index. However, as we can see in the error message below, **tuples do not support item assignment** because they are **immutable**. The only way to change the values in a tuple is to reassign all the values to the variable."
      ]
    },
    {
      "cell_type": "code",
      "execution_count": 13,
      "id": "2def0376",
      "metadata": {
        "colab": {
          "base_uri": "https://localhost:8080/",
          "height": 245
        },
        "id": "2def0376",
        "outputId": "6a7901cb-ef32-46bf-9eb1-d803ac0c7aa9"
      },
      "outputs": [
        {
          "output_type": "error",
          "ename": "TypeError",
          "evalue": "'tuple' object does not support item assignment",
          "traceback": [
            "\u001b[0;31m---------------------------------------------------------------------------\u001b[0m",
            "\u001b[0;31mTypeError\u001b[0m                                 Traceback (most recent call last)",
            "\u001b[0;32m/tmp/ipython-input-3322431270.py\u001b[0m in \u001b[0;36m<cell line: 0>\u001b[0;34m()\u001b[0m\n\u001b[0;32m----> 1\u001b[0;31m \u001b[0mtree_tuple\u001b[0m\u001b[0;34m[\u001b[0m\u001b[0;36m1\u001b[0m\u001b[0;34m]\u001b[0m \u001b[0;34m=\u001b[0m \u001b[0;34m'pear'\u001b[0m\u001b[0;34m\u001b[0m\u001b[0;34m\u001b[0m\u001b[0m\n\u001b[0m",
            "\u001b[0;31mTypeError\u001b[0m: 'tuple' object does not support item assignment"
          ]
        }
      ],
      "source": [
        "tree_tuple[1] = 'pear'"
      ]
    },
    {
      "cell_type": "markdown",
      "id": "69d06228",
      "metadata": {
        "id": "69d06228"
      },
      "source": [
        "<br>\n",
        "\n",
        "5. Create a new tuple called `text_only` and place the last two elements of `tree_tuple` into it.\n",
        "\n",
        "Remember that the **first element** we want to include has an **index value of 1**, and as such, our index slice starts there.\n",
        "\n",
        "An easy way to check whether we sliced correctly is by subtracting the first part of our slice from the second `(3 minus 1)`, which is equal to two elements in the new tuple."
      ]
    },
    {
      "cell_type": "code",
      "execution_count": 41,
      "id": "cf49efda",
      "metadata": {
        "colab": {
          "base_uri": "https://localhost:8080/"
        },
        "id": "cf49efda",
        "outputId": "be68e3a7-0651-4f4e-94fe-8e82ab127e27"
      },
      "outputs": [
        {
          "output_type": "stream",
          "name": "stdout",
          "text": [
            "('apple', 'Granny Smith')\n"
          ]
        }
      ],
      "source": [
        "# insert your code here\n",
        "text_only = tree_tuple[1:3]\n",
        "print(text_only)"
      ]
    },
    {
      "cell_type": "code",
      "execution_count": 42,
      "id": "43343db6",
      "metadata": {
        "colab": {
          "base_uri": "https://localhost:8080/"
        },
        "id": "43343db6",
        "outputId": "062d6a07-869e-47db-eeb1-ecb73a6a71f8"
      },
      "outputs": [
        {
          "output_type": "stream",
          "name": "stdout",
          "text": [
            "('apple', 'Granny Smith')\n"
          ]
        }
      ],
      "source": [
        "# Another solution makes use of negative indexing, leaving the second element empty\n",
        "text_only = tree_tuple[-2:]\n",
        "print(text_only)"
      ]
    },
    {
      "cell_type": "markdown",
      "id": "c0b6b1b8",
      "metadata": {
        "id": "c0b6b1b8"
      },
      "source": [
        "<br>\n",
        "\n",
        "### Exercise 2\n",
        "\n",
        "1. Create two tuples: `fruit_summer` and `fruit_winter`, with elements (`'peach'`, `'apricot'`, `'plum'`) and (`'lemon'`, `'orange'`, `'grapefruit'`), respectively. Print the tuples to screen in the same print statement.\n",
        "\n",
        "We can print tuples in a single print statement to screen, and they'll be printed in the same line.\n"
      ]
    },
    {
      "cell_type": "code",
      "execution_count": 43,
      "id": "82247504",
      "metadata": {
        "vscode": {
          "languageId": "plaintext"
        },
        "colab": {
          "base_uri": "https://localhost:8080/"
        },
        "id": "82247504",
        "outputId": "a8359cf1-4d67-4ca6-e323-1213d8f9bbd1"
      },
      "outputs": [
        {
          "output_type": "stream",
          "name": "stdout",
          "text": [
            "('peach', 'apricot', 'plum') ('lemon', 'orange', 'grapefruit')\n"
          ]
        }
      ],
      "source": [
        "# assigning the elements to two tuples\n",
        "fruit_summer = ('peach', 'apricot', 'plum')\n",
        "fruit_winter = ('lemon', 'orange', 'grapefruit')\n",
        "\n",
        "print(fruit_summer, fruit_winter)"
      ]
    },
    {
      "cell_type": "markdown",
      "id": "82412a31",
      "metadata": {
        "id": "82412a31"
      },
      "source": [
        "<br>\n",
        "\n",
        "2. Combine these following two tuples, `fruit_summer` and `fruit_winter`, to form a new tuple, `all_fruit`. Print the new tuple to the screen.\n",
        "\n",
        "We can concatenate tuples in Python by using the `+` sign. The order in which the tuples are summed determines the order of the elements of the combined tuple."
      ]
    },
    {
      "cell_type": "code",
      "execution_count": 44,
      "id": "aa020a80",
      "metadata": {
        "colab": {
          "base_uri": "https://localhost:8080/"
        },
        "id": "aa020a80",
        "outputId": "607ad0f6-6e5c-4e94-9f7e-dc244fd11d51"
      },
      "outputs": [
        {
          "output_type": "stream",
          "name": "stdout",
          "text": [
            "('peach', 'apricot', 'plum', 'lemon', 'orange', 'grapefruit')\n"
          ]
        }
      ],
      "source": [
        "# concatenate using +\n",
        "all_fruit = fruit_summer + fruit_winter\n",
        "\n",
        "print(all_fruit)"
      ]
    },
    {
      "cell_type": "markdown",
      "id": "e8fef2c3",
      "metadata": {
        "id": "e8fef2c3"
      },
      "source": [
        "<br>\n",
        "\n",
        "3. Confirm how many times the element `'plum'` appears in `all_fruit`.\n",
        "\n",
        "We call the `count()` method to state which element we are interested in counting. This is a useful way to determine whether a tuple contains duplicates."
      ]
    },
    {
      "cell_type": "code",
      "execution_count": 26,
      "id": "03c4f754",
      "metadata": {
        "colab": {
          "base_uri": "https://localhost:8080/"
        },
        "id": "03c4f754",
        "outputId": "3fc3b078-76ee-4d84-d320-f5a143c0b805"
      },
      "outputs": [
        {
          "output_type": "execute_result",
          "data": {
            "text/plain": [
              "1"
            ]
          },
          "metadata": {},
          "execution_count": 26
        }
      ],
      "source": [
        "# use count method on all_fruit tuple\n",
        "all_fruit.count('plum')"
      ]
    },
    {
      "cell_type": "markdown",
      "id": "de3a5406",
      "metadata": {
        "id": "de3a5406"
      },
      "source": [
        "<br>\n",
        "\n",
        "4. Suppose we have the `combined_info` tuple shown in the block of code below, containing three elements – the colour of the fruit, the age of the tree, and the type of tree. We'd however like to work with these elements individually and need to create variables (colour, age, tree_type) for each of the elements in the tuple.  \n",
        "\n"
      ]
    },
    {
      "cell_type": "code",
      "execution_count": 29,
      "id": "33e49e27",
      "metadata": {
        "id": "33e49e27"
      },
      "outputs": [],
      "source": [
        "# combined_info tuple\n",
        "combined_info = ('yellow', 5, 'lemon')\n",
        "\n",
        "# insert your code here\n",
        "colour, age, tree_type = combined_info"
      ]
    },
    {
      "cell_type": "markdown",
      "id": "01f2a9c9",
      "metadata": {
        "id": "01f2a9c9"
      },
      "source": [
        "By assigning a tuple directly to the variables in a single line, you can skip repeating assignments and the need to index elements individually. Note that the order determines the assignment. This functionality will be especially useful when dealing with functions."
      ]
    },
    {
      "cell_type": "code",
      "execution_count": 46,
      "id": "b09b9ba0",
      "metadata": {
        "colab": {
          "base_uri": "https://localhost:8080/"
        },
        "id": "b09b9ba0",
        "outputId": "604a1fef-5a39-4997-be08-60916c0cb1d2"
      },
      "outputs": [
        {
          "output_type": "stream",
          "name": "stdout",
          "text": [
            "yellow 5 lemon\n"
          ]
        }
      ],
      "source": [
        "print(colour, age, tree_type)"
      ]
    },
    {
      "cell_type": "code",
      "execution_count": 47,
      "id": "e1ef209f",
      "metadata": {
        "colab": {
          "base_uri": "https://localhost:8080/"
        },
        "id": "e1ef209f",
        "outputId": "d7606532-85cc-474c-e1e8-c502adeddc8e"
      },
      "outputs": [
        {
          "output_type": "stream",
          "name": "stdout",
          "text": [
            "yellow 5 lemon\n"
          ]
        }
      ],
      "source": [
        "# the alternative, but longer solution\n",
        "colour_index = combined_info[0]\n",
        "age_index = combined_info[1]\n",
        "type_index = combined_info[2]\n",
        "\n",
        "print(colour_index, age_index, type_index)"
      ]
    },
    {
      "cell_type": "markdown",
      "id": "e9956efe",
      "metadata": {
        "tags": [],
        "id": "e9956efe"
      },
      "source": [
        "<br>\n",
        "\n",
        "## Summary\n",
        "\n",
        "Tuples are simple data structures and are especially useful when storing a **small number of elements** that need to be accessed during the course of a program. Remember to look at the Python documentation on tuples for more information and examples!"
      ]
    },
    {
      "cell_type": "markdown",
      "id": "26fd094b-0fee-46f1-a4b8-73766813c42b",
      "metadata": {
        "tags": [],
        "id": "26fd094b-0fee-46f1-a4b8-73766813c42b"
      },
      "source": [
        "#  \n",
        "\n",
        "<div align=\"center\" style=\" font-size: 80%; text-align: center; margin: 0 auto\">\n",
        "<img src=\"https://raw.githubusercontent.com/Explore-AI/Pictures/refs/heads/master/ALX_banners/ALX_Navy.png\"  style=\"width:140px\";/>\n",
        "</div>"
      ]
    }
  ],
  "metadata": {
    "kernelspec": {
      "display_name": "Python 3 (ipykernel)",
      "language": "python",
      "name": "python3"
    },
    "language_info": {
      "codemirror_mode": {
        "name": "ipython",
        "version": 3
      },
      "file_extension": ".py",
      "mimetype": "text/x-python",
      "name": "python",
      "nbconvert_exporter": "python",
      "pygments_lexer": "ipython3",
      "version": "3.11.5"
    },
    "colab": {
      "provenance": [],
      "include_colab_link": true
    }
  },
  "nbformat": 4,
  "nbformat_minor": 5
}