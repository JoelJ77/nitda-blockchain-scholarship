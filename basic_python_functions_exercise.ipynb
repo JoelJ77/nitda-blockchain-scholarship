{
  "cells": [
    {
      "cell_type": "markdown",
      "metadata": {
        "id": "view-in-github",
        "colab_type": "text"
      },
      "source": [
        "<a href=\"https://colab.research.google.com/github/JoelJ77/nitda-blockchain-scholarship/blob/main/basic_python_functions_exercise.ipynb\" target=\"_parent\"><img src=\"https://colab.research.google.com/assets/colab-badge.svg\" alt=\"Open In Colab\"/></a>"
      ]
    },
    {
      "cell_type": "markdown",
      "metadata": {
        "id": "LANqmeiScYy-"
      },
      "source": [
        "<div align=\"center\" style=\" font-size: 80%; text-align: center; margin: 0 auto\">\n",
        "<img src=\"https://raw.githubusercontent.com/Explore-AI/Pictures/master/Python-Notebook-Banners/Exercise.png\"  style=\"display: block; margin-left: auto; margin-right: auto;\";/>\n",
        "</div>"
      ],
      "id": "LANqmeiScYy-"
    },
    {
      "cell_type": "markdown",
      "id": "f662d169",
      "metadata": {
        "id": "f662d169"
      },
      "source": [
        "# Exercise: Basic Python functions\n"
      ]
    },
    {
      "cell_type": "markdown",
      "id": "26af890c",
      "metadata": {
        "id": "26af890c"
      },
      "source": [
        "In this exercise, we will explore the fundamental concepts of Python functions and how they can be used in practice. We will be led through hands-on coding exercises that will emphasise basic concepts related to building simple functions and utilising built-in functions."
      ]
    },
    {
      "cell_type": "markdown",
      "id": "2d230d14",
      "metadata": {
        "tags": [],
        "id": "2d230d14"
      },
      "source": [
        "## Learning objectives\n",
        "\n",
        "By the end of this exercise, you should be able to:\n",
        "- Understand how to use basic built-in functions.\n",
        "- Create user-defined functions based on specific needs."
      ]
    },
    {
      "cell_type": "markdown",
      "metadata": {
        "id": "i-87N8vxcYzD"
      },
      "source": [
        "## Exercises"
      ],
      "id": "i-87N8vxcYzD"
    },
    {
      "cell_type": "markdown",
      "id": "5a0b7683",
      "metadata": {
        "tags": [],
        "id": "5a0b7683"
      },
      "source": [
        "### Exercise 1\n",
        "\n",
        "Given a list of deforested land in hectares over five years, calculate the total carbon emission over the years using built-in functions.\n",
        "\n",
        " Total carbon emissions are calculated by adding the hectares of deforested land and multiplying the total by a given carbon emissions factor of 40.\n",
        "\n",
        " Hint:\n",
        " * Create a variable called `total_deforested_land`, the result of adding the hectares of the deforested land using the `sum` function.\n",
        " * Create a variable called `total_carbon_emission`, the result of multiplying the `total_deforested_land` variable with the carbon emissions factor."
      ]
    },
    {
      "cell_type": "code",
      "execution_count": 6,
      "id": "788218d7",
      "metadata": {
        "id": "788218d7"
      },
      "outputs": [],
      "source": [
        "# Deforested land for each year\n",
        "deforested_land = [10, 15, 8, 12, 20]\n",
        "\n",
        "# Carbon emission factor (tons of CO2 per hectare)\n",
        "carbon_emission_factor = 40\n",
        "\n",
        "# Your code here...\n",
        "# Calculate the total carbon emission using built-in functions\n",
        "total_deforested_land = sum(deforested_land)\n",
        "total_carbon_emission = total_deforested_land  * carbon_emission_factor"
      ]
    },
    {
      "cell_type": "markdown",
      "id": "fd52109b",
      "metadata": {
        "id": "fd52109b"
      },
      "source": [
        "Print the `total_deforested_land` and `total_carbon_emission` variables."
      ]
    },
    {
      "cell_type": "code",
      "execution_count": 7,
      "metadata": {
        "colab": {
          "base_uri": "https://localhost:8080/"
        },
        "id": "9j3uCeDUcYzF",
        "outputId": "98aa38d0-3ef0-4c15-a484-05946dc3a51f"
      },
      "outputs": [
        {
          "output_type": "stream",
          "name": "stdout",
          "text": [
            "65\n",
            "2600\n"
          ]
        }
      ],
      "source": [
        "# Your code here...\n",
        "print(total_deforested_land)\n",
        "print(total_carbon_emission)"
      ],
      "id": "9j3uCeDUcYzF"
    },
    {
      "cell_type": "markdown",
      "metadata": {
        "id": "janh5J_scYzF"
      },
      "source": [
        "### Exercise 2\n",
        "\n",
        "Create a function named `acres_to_hectares` that accepts a parameter of the area of a forest in acres and returns the corresponding area in hectares by multiplying the acres by a conversion rate of 0.404686.\n",
        "\n",
        "Remember to include the doc strings of the function."
      ],
      "id": "janh5J_scYzF"
    },
    {
      "cell_type": "code",
      "execution_count": null,
      "metadata": {
        "id": "5ETCbajPcYzF"
      },
      "outputs": [],
      "source": [
        "# Your code here..."
      ],
      "id": "5ETCbajPcYzF"
    },
    {
      "cell_type": "markdown",
      "id": "8bcc8c85",
      "metadata": {
        "id": "8bcc8c85"
      },
      "source": [
        "Use the function above to convert a forest area of 50 acres to hectares."
      ]
    },
    {
      "cell_type": "code",
      "execution_count": null,
      "id": "4d81db66",
      "metadata": {
        "id": "4d81db66"
      },
      "outputs": [],
      "source": [
        "# Your code here..."
      ]
    },
    {
      "cell_type": "markdown",
      "id": "808a6af5",
      "metadata": {
        "id": "808a6af5"
      },
      "source": [
        "### Exercise 3\n",
        "\n",
        "Using the data representing the deforested land in hectares over the years, calculate and print the average deforested land using the `sum` and `len` built-in functions.\n",
        "\n",
        "Hint:\n",
        "* Create a variable called `average_deforested_land` by adding the hectares of the deforested land together using the `sum` function and then dividing it by the number of values in the list, which can be derived using the `len` function."
      ]
    },
    {
      "cell_type": "code",
      "execution_count": null,
      "id": "65e9830a",
      "metadata": {
        "id": "65e9830a"
      },
      "outputs": [],
      "source": [
        "# Deforested land for each year\n",
        "deforested_land = [10, 15, 8, 12, 20]\n",
        "\n",
        "# Your code here\n"
      ]
    },
    {
      "cell_type": "markdown",
      "id": "5b3591ba",
      "metadata": {
        "id": "5b3591ba"
      },
      "source": [
        "Print the `average_deforested_land` variable."
      ]
    },
    {
      "cell_type": "code",
      "execution_count": null,
      "id": "7fccb10e",
      "metadata": {
        "id": "7fccb10e"
      },
      "outputs": [],
      "source": [
        "# Your code here..."
      ]
    },
    {
      "cell_type": "markdown",
      "metadata": {
        "id": "f30BOxfscYzH"
      },
      "source": [
        "## Solutions"
      ],
      "id": "f30BOxfscYzH"
    },
    {
      "cell_type": "markdown",
      "metadata": {
        "id": "KoUAGbyacYzH"
      },
      "source": [
        "### Exercise 1"
      ],
      "id": "KoUAGbyacYzH"
    },
    {
      "cell_type": "code",
      "execution_count": 8,
      "metadata": {
        "id": "Hl7Q84yycYzI"
      },
      "outputs": [],
      "source": [
        "# Deforested land for each year\n",
        "deforested_land = [10, 15, 8, 12, 20]\n",
        "\n",
        "# Carbon emission factor (tons of CO2 per hectare)\n",
        "carbon_emission_factor = 40\n",
        "\n",
        "# Calculate the total carbon emission using built-in functions\n",
        "total_deforested_land = sum(deforested_land)\n",
        "total_carbon_emission = total_deforested_land * carbon_emission_factor"
      ],
      "id": "Hl7Q84yycYzI"
    },
    {
      "cell_type": "code",
      "execution_count": 9,
      "id": "c2c26fbb",
      "metadata": {
        "colab": {
          "base_uri": "https://localhost:8080/"
        },
        "id": "c2c26fbb",
        "outputId": "59dfeb9f-ee5e-4496-8dd5-73af05122f70"
      },
      "outputs": [
        {
          "output_type": "stream",
          "name": "stdout",
          "text": [
            "65\n",
            "2600\n"
          ]
        }
      ],
      "source": [
        "print(total_deforested_land)\n",
        "print(total_carbon_emission)"
      ]
    },
    {
      "cell_type": "markdown",
      "metadata": {
        "id": "Y_AfUkjPcYzI"
      },
      "source": [
        "The `sum()` function is used to calculate the total deforested land, which is then multiplied by the carbon emission factor to obtain the total carbon emission. Each of these calculations is placed in a variable, which we can print to view its value."
      ],
      "id": "Y_AfUkjPcYzI"
    },
    {
      "cell_type": "markdown",
      "metadata": {
        "id": "FuAaFyIocYzI"
      },
      "source": [
        "### Exercise 2\n"
      ],
      "id": "FuAaFyIocYzI"
    },
    {
      "cell_type": "code",
      "execution_count": 12,
      "metadata": {
        "id": "eV3HEzWAcYzI"
      },
      "outputs": [],
      "source": [
        "def acres_to_hectares(acres):\n",
        "    \"\"\"\n",
        "    Convert acres to hectares.\n",
        "\n",
        "    Parameters:\n",
        "    - acres (float): The area in acres.\n",
        "\n",
        "    Returns:\n",
        "    - float: The equivalent area in hectares.\n",
        "    \"\"\"\n",
        "    hectares = acres * 0.404686\n",
        "    return hectares"
      ],
      "id": "eV3HEzWAcYzI"
    },
    {
      "cell_type": "code",
      "execution_count": 13,
      "id": "cf109f4c",
      "metadata": {
        "colab": {
          "base_uri": "https://localhost:8080/"
        },
        "id": "cf109f4c",
        "outputId": "b5499b5f-6fe3-452f-a1fb-0e35eebad408"
      },
      "outputs": [
        {
          "output_type": "stream",
          "name": "stdout",
          "text": [
            "20.2343\n"
          ]
        }
      ],
      "source": [
        "print(acres_to_hectares(50))"
      ]
    },
    {
      "cell_type": "markdown",
      "metadata": {
        "id": "7IdqxERJcYzJ"
      },
      "source": [
        "A function named `acres_to_hectares` is defined to convert an area from acres to hectares. The function takes the number of acres as a parameter, multiplies it by the conversion factor (1 acre = 0.404686 hectares), and returns the equivalent area in hectares. The conversion function is then used to convert an area of 50 acres to hectares, and the result is printed."
      ],
      "id": "7IdqxERJcYzJ"
    },
    {
      "cell_type": "markdown",
      "id": "2349af35",
      "metadata": {
        "id": "2349af35"
      },
      "source": [
        "### Exercise 3"
      ]
    },
    {
      "cell_type": "code",
      "execution_count": 16,
      "id": "2336b058",
      "metadata": {
        "id": "2336b058"
      },
      "outputs": [],
      "source": [
        "# Deforested land for different regions\n",
        "deforested_land = [25, 30, 20, 15, 18]\n",
        "\n",
        "# Calculate the average deforested area using built-in functions\n",
        "average_deforested_land = sum(deforested_land) / len(deforested_land)"
      ]
    },
    {
      "cell_type": "code",
      "execution_count": 17,
      "id": "7c8d54ab",
      "metadata": {
        "colab": {
          "base_uri": "https://localhost:8080/"
        },
        "id": "7c8d54ab",
        "outputId": "82105106-3658-4790-cad8-7193db6f220b"
      },
      "outputs": [
        {
          "output_type": "stream",
          "name": "stdout",
          "text": [
            "21.6\n"
          ]
        }
      ],
      "source": [
        "print(average_deforested_land)"
      ]
    },
    {
      "cell_type": "markdown",
      "id": "26fd094b-0fee-46f1-a4b8-73766813c42b",
      "metadata": {
        "tags": [],
        "id": "26fd094b-0fee-46f1-a4b8-73766813c42b"
      },
      "source": [
        "#  \n",
        "\n",
        "<div align=\"center\" style=\" font-size: 80%; text-align: center; margin: 0 auto\">\n",
        "<img src=\"https://raw.githubusercontent.com/Explore-AI/Pictures/refs/heads/master/ALX_banners/ALX_Navy.png\"  style=\"width:140px\";/>\n",
        "</div>"
      ]
    }
  ],
  "metadata": {
    "kernelspec": {
      "display_name": "Python 3 (ipykernel)",
      "language": "python",
      "name": "python3"
    },
    "language_info": {
      "codemirror_mode": {
        "name": "ipython",
        "version": 3
      },
      "file_extension": ".py",
      "mimetype": "text/x-python",
      "name": "python",
      "nbconvert_exporter": "python",
      "pygments_lexer": "ipython3",
      "version": "3.11.4"
    },
    "colab": {
      "provenance": [],
      "include_colab_link": true
    }
  },
  "nbformat": 4,
  "nbformat_minor": 5
}