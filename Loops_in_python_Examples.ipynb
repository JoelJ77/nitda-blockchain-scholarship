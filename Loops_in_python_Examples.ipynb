{
  "cells": [
    {
      "cell_type": "markdown",
      "metadata": {
        "id": "view-in-github",
        "colab_type": "text"
      },
      "source": [
        "<a href=\"https://colab.research.google.com/github/JoelJ77/nitda-blockchain-scholarship/blob/main/Loops_in_python_Examples.ipynb\" target=\"_parent\"><img src=\"https://colab.research.google.com/assets/colab-badge.svg\" alt=\"Open In Colab\"/></a>"
      ]
    },
    {
      "cell_type": "markdown",
      "id": "0319122f",
      "metadata": {
        "id": "0319122f"
      },
      "source": [
        "<div align=\"center\" style=\" font-size: 80%; text-align: center; margin: 0 auto\">\n",
        "<img src=\"https://raw.githubusercontent.com/Explore-AI/Pictures/master/Python-Notebook-Banners/Examples.png\"  style=\"display: block; margin-left: auto; margin-right: auto;\";/>\n",
        "</div>"
      ]
    },
    {
      "cell_type": "markdown",
      "id": "f662d169",
      "metadata": {
        "id": "f662d169"
      },
      "source": [
        "# Examples: Loops in Python\n"
      ]
    },
    {
      "cell_type": "markdown",
      "id": "26af890c",
      "metadata": {
        "id": "26af890c"
      },
      "source": [
        "In this notebook, we will dive deeper into how loops work in Python. We're going to expand our knowledge of loops, nested loops, and loop control and learn how to create maintainable, readable, and optimal loops."
      ]
    },
    {
      "cell_type": "markdown",
      "id": "2d230d14",
      "metadata": {
        "tags": [],
        "id": "2d230d14"
      },
      "source": [
        "## Learning objectives\n",
        "\n",
        "In this train, we will:\n",
        "- Learn how to iterate through common data structures and types.\n",
        "\n",
        "- Effectively use loop control statements like `break`, `continue`, and `pass` to manage the flow of our loops.\n",
        "\n",
        "- Understand the concept of nested loops, their implications on performance, and best practices for their use.\n",
        "\n",
        "- Learn how to use list and dictionary comprehension to make short loops more readable.\n",
        "\n",
        "- Know what the best practice is for loops."
      ]
    },
    {
      "cell_type": "markdown",
      "id": "8c7b1000",
      "metadata": {
        "id": "8c7b1000"
      },
      "source": [
        "# More about loops\n",
        "We can loop through data structures like lists, dictionaries, tuples, and even strings in a couple of different ways."
      ]
    },
    {
      "cell_type": "markdown",
      "id": "32e8e15e",
      "metadata": {
        "id": "32e8e15e"
      },
      "source": [
        "## Lists\n",
        "\n",
        "Very often in programming, our data are contained in more than one list but represent related things. For example, we can have a list of deforestation rates for each year. In 2010, 150,000 hectares of forests were destroyed, while in 2013, it was 135,000 hectares. Suppose we want to use both the year and the rate in a loop."
      ]
    },
    {
      "cell_type": "code",
      "execution_count": null,
      "id": "27ad1501",
      "metadata": {
        "id": "27ad1501"
      },
      "outputs": [],
      "source": [
        "deforestation_rates = [150, 145, 140, 135, 130]\n",
        "deforestation_years = [2010, 2011, 2012, 2013, 2014]"
      ]
    },
    {
      "cell_type": "markdown",
      "id": "86f962f2",
      "metadata": {
        "id": "86f962f2"
      },
      "source": [
        "If we simply loop through a list, we only get the elements of the list."
      ]
    },
    {
      "cell_type": "code",
      "execution_count": null,
      "id": "a9fb8a69",
      "metadata": {
        "colab": {
          "base_uri": "https://localhost:8080/"
        },
        "id": "a9fb8a69",
        "outputId": "091df2ad-f7c2-4277-8fd2-3ec6b7664f92"
      },
      "outputs": [
        {
          "output_type": "stream",
          "name": "stdout",
          "text": [
            "rate = 150\n",
            "rate = 145\n",
            "rate = 140\n",
            "rate = 135\n",
            "rate = 130\n"
          ]
        }
      ],
      "source": [
        "\n",
        "for rate in deforestation_rates:\n",
        "   print(f\"rate = {rate}\")"
      ]
    },
    {
      "cell_type": "markdown",
      "id": "34d572b8",
      "metadata": {
        "id": "34d572b8"
      },
      "source": [
        "But if we use `range(len(deforestation_rates))` to create an index counter `i`, we can loop through `i` from 0 to 4, and use `i` to retrieve the elements of both lists at index `i`."
      ]
    },
    {
      "cell_type": "code",
      "execution_count": null,
      "id": "1cd419a5",
      "metadata": {
        "colab": {
          "base_uri": "https://localhost:8080/"
        },
        "id": "1cd419a5",
        "outputId": "09b745d0-5c6b-44cd-ac11-f915ebf45400"
      },
      "outputs": [
        {
          "output_type": "stream",
          "name": "stdout",
          "text": [
            "i = 0 - Yearly deforestation rate in 2010 is: 150k hectares\n",
            "i = 1 - Yearly deforestation rate in 2011 is: 145k hectares\n",
            "i = 2 - Yearly deforestation rate in 2012 is: 140k hectares\n",
            "i = 3 - Yearly deforestation rate in 2013 is: 135k hectares\n",
            "i = 4 - Yearly deforestation rate in 2014 is: 130k hectares\n"
          ]
        }
      ],
      "source": [
        "for i in range(len(deforestation_rates)):\n",
        "    rate = deforestation_rates[i]\n",
        "    year = deforestation_years[i]\n",
        "    print(f\"i = {i} - Yearly deforestation rate in {year} is: {rate}k hectares\")"
      ]
    },
    {
      "cell_type": "markdown",
      "id": "17ec4c98",
      "metadata": {
        "id": "17ec4c98"
      },
      "source": [
        "This is so useful that there is a built-in way to do it in Python called `enumerate()`."
      ]
    },
    {
      "cell_type": "code",
      "execution_count": null,
      "id": "be852d56",
      "metadata": {
        "colab": {
          "base_uri": "https://localhost:8080/"
        },
        "id": "be852d56",
        "outputId": "fcf695c3-2244-4050-f9ee-6a68c9be0afc"
      },
      "outputs": [
        {
          "output_type": "stream",
          "name": "stdout",
          "text": [
            "i = 0 - Yearly deforestation rate in 2010 is: 150k hectares\n",
            "i = 1 - Yearly deforestation rate in 2011 is: 145k hectares\n",
            "i = 2 - Yearly deforestation rate in 2012 is: 140k hectares\n",
            "i = 3 - Yearly deforestation rate in 2013 is: 135k hectares\n",
            "i = 4 - Yearly deforestation rate in 2014 is: 130k hectares\n"
          ]
        }
      ],
      "source": [
        "for i, rate in enumerate(deforestation_rates):\n",
        "    year = deforestation_years[i]\n",
        "    print(f\"i = {i} - Yearly deforestation rate in {year} is: {rate}k hectares\")"
      ]
    },
    {
      "cell_type": "markdown",
      "id": "40618b0f",
      "metadata": {
        "id": "40618b0f"
      },
      "source": [
        "`enumerate()` gives us access to two variables in each iteration, the index, `i`, and the value at that index, `rate`. We loop through the `deforestation_rates` list and use the index `i` to fetch the corresponding year from the `deforestation_years`."
      ]
    },
    {
      "cell_type": "markdown",
      "id": "1858a864",
      "metadata": {
        "id": "1858a864"
      },
      "source": [
        "## Dictionaries\n",
        "\n",
        "### Basic\n",
        "We can loop over dictionaries too. Let's consider a simple example where we have a dictionary representing the number of different marine species observed in a coastal area."
      ]
    },
    {
      "cell_type": "code",
      "execution_count": null,
      "id": "42975130",
      "metadata": {
        "colab": {
          "base_uri": "https://localhost:8080/"
        },
        "id": "42975130",
        "outputId": "a74caebf-8b31-45bf-e412-9e53609dcac8"
      },
      "outputs": [
        {
          "output_type": "stream",
          "name": "stdout",
          "text": [
            "Dolphins: 12 sightings\n",
            "Whales: 3 sightings\n",
            "Sea Turtles: 7 sightings\n"
          ]
        }
      ],
      "source": [
        "marine_species_count = {\n",
        "    'Dolphins': 12,\n",
        "    'Whales': 3,\n",
        "    'Sea Turtles': 7\n",
        "}\n",
        "\n",
        "for species in marine_species_count:\n",
        "    print(f\"{species}: {marine_species_count[species]} sightings\")"
      ]
    },
    {
      "cell_type": "markdown",
      "id": "bc1d9f8e",
      "metadata": {
        "id": "bc1d9f8e"
      },
      "source": [
        "In this example, we iterate over the dictionary `marine_species_count`. The loop variable `species` takes each key from the dictionary (i.e. each type of marine species), and we access the corresponding value (the count of sightings) using `marine_species_count[species]`. The code prints the number of sightings for each species."
      ]
    },
    {
      "cell_type": "markdown",
      "id": "e1514317",
      "metadata": {
        "id": "e1514317"
      },
      "source": [
        "We can also use the `.items()` method to access the key – `species` – and the value – `count` – of each dictionary item."
      ]
    },
    {
      "cell_type": "code",
      "execution_count": null,
      "id": "9e6ecd25",
      "metadata": {
        "colab": {
          "base_uri": "https://localhost:8080/"
        },
        "id": "9e6ecd25",
        "outputId": "3b1ee5dc-b22f-4ed4-b384-99808fe22552"
      },
      "outputs": [
        {
          "output_type": "stream",
          "name": "stdout",
          "text": [
            "Dolphins: 12 sightings\n",
            "Whales: 3 sightings\n",
            "Sea Turtles: 7 sightings\n"
          ]
        }
      ],
      "source": [
        "marine_species_count = {\n",
        "    'Dolphins': 12,\n",
        "    'Whales': 3,\n",
        "    'Sea Turtles': 7\n",
        "}\n",
        "\n",
        "for species, count in marine_species_count.items():\n",
        "    print(f\"{species}: {count} sightings\")"
      ]
    },
    {
      "cell_type": "markdown",
      "id": "7de4dbf1",
      "metadata": {
        "id": "7de4dbf1"
      },
      "source": [
        "### Conditional processing in dictionary loop\n",
        "\n",
        "Suppose we have a dictionary tracking the deforestation area in various regions and we want to identify regions with critical deforestation (more than a certain threshold). We can loop through a dictionary with the region as the key and the millions of hectares deforested as the values. If we want to loop over the keys and values, we can use the `.items()` method, and assign `region` to the key and `area` to the value."
      ]
    },
    {
      "cell_type": "code",
      "execution_count": null,
      "id": "947edf5b",
      "metadata": {
        "colab": {
          "base_uri": "https://localhost:8080/"
        },
        "id": "947edf5b",
        "outputId": "a360ac07-24f8-4f75-a4d0-85877abff3ac"
      },
      "outputs": [
        {
          "output_type": "stream",
          "name": "stdout",
          "text": [
            "Critical deforestation in Amazon: 120 square kilometres\n",
            "Critical deforestation in Southeast Asia: 95 square kilometres\n"
          ]
        }
      ],
      "source": [
        "deforestation_data = {\n",
        "    'Amazon': 120,\n",
        "    'Congo Basin': 80,\n",
        "    'Southeast Asia': 95,\n",
        "    'Eastern Australia': 40\n",
        "}\n",
        "critical_threshold = 90\n",
        "\n",
        "for region, area in deforestation_data.items():\n",
        "    if area > critical_threshold:\n",
        "        print(f\"Critical deforestation in {region}: {area} square kilometres\")"
      ]
    },
    {
      "cell_type": "markdown",
      "id": "dd4a5579",
      "metadata": {
        "id": "dd4a5579"
      },
      "source": [
        "Here we use `.items()` to iterate over both keys (regions) and values (deforested areas). The `if` statement checks if the deforestation area exceeds the `critical_threshold`. If it does, it prints a critical warning message."
      ]
    },
    {
      "cell_type": "markdown",
      "id": "b9a6c2a8",
      "metadata": {
        "id": "b9a6c2a8"
      },
      "source": [
        "We can also only loop over the values in the dictionary, using the `.values()` method to only get the `area` values, and sum them together."
      ]
    },
    {
      "cell_type": "code",
      "execution_count": null,
      "id": "26e247bd",
      "metadata": {
        "colab": {
          "base_uri": "https://localhost:8080/"
        },
        "id": "26e247bd",
        "outputId": "392e8784-cae1-4760-a814-686550796953"
      },
      "outputs": [
        {
          "output_type": "stream",
          "name": "stdout",
          "text": [
            "Total deforestation area: 335 square kilometres\n"
          ]
        }
      ],
      "source": [
        "total_deforestation = 0\n",
        "for area in deforestation_data.values():\n",
        "    total_deforestation += area\n",
        "\n",
        "print(f\"Total deforestation area: {total_deforestation} square kilometres\")"
      ]
    },
    {
      "cell_type": "markdown",
      "id": "941fab11",
      "metadata": {
        "id": "941fab11"
      },
      "source": [
        "# Nested loops\n",
        "\n",
        "We can add or 'nest' loops within other loops."
      ]
    },
    {
      "cell_type": "markdown",
      "id": "326baf6f",
      "metadata": {
        "id": "326baf6f"
      },
      "source": [
        "Suppose we have a dictionary of oceans, with the values being a list of temperatures recorded over time in °C."
      ]
    },
    {
      "cell_type": "code",
      "execution_count": 9,
      "id": "79a1a686",
      "metadata": {
        "id": "79a1a686"
      },
      "outputs": [],
      "source": [
        "ocean_temperatures = {\n",
        "    'Pacific': [25, 25.3, 25.6, 25.2, 25.5, 25.6],\n",
        "    'Atlantic': [23.4, 23.8, 23.7, 29.9, 24.0, 29.1],\n",
        "    'Indian': [26.5, 26.7, 27.0, -29, -55, -99, -99]\n",
        "}"
      ]
    },
    {
      "cell_type": "markdown",
      "id": "14b21e31",
      "metadata": {
        "id": "14b21e31"
      },
      "source": [
        "We can use a loop to access the lists, which we will call `temperatures`, for each ocean. We use the `.items()` method to get the keys and values for each item in the dictionary. We assign `temperatures` to the list of temperatures, so when we print `ocean` and `temperatures` we get the ocean name and a list of temperatures."
      ]
    },
    {
      "cell_type": "code",
      "execution_count": null,
      "id": "cddd8dd4",
      "metadata": {
        "colab": {
          "base_uri": "https://localhost:8080/"
        },
        "id": "cddd8dd4",
        "outputId": "abc88a82-142c-4aee-8f2a-7dfc16bd226b"
      },
      "outputs": [
        {
          "output_type": "stream",
          "name": "stdout",
          "text": [
            "Ocean: Pacific: sum of all the temperatures in this list: [25, 25.3, 25.6, 25.2, 25.5, 25.6]\n",
            "Ocean: Atlantic: sum of all the temperatures in this list: [23.4, 23.8, 23.7, 29.9, 24.0, 29.1]\n",
            "Ocean: Indian: sum of all the temperatures in this list: [26.5, 26.7, 27.0, -29, -55, -99, -99]\n"
          ]
        }
      ],
      "source": [
        "#Outer loop of oceans\n",
        "for ocean, temperatures in ocean_temperatures.items():\n",
        "\n",
        "        print(f\"Ocean: {ocean}: sum of all the temperatures in this list: {temperatures}\")"
      ]
    },
    {
      "cell_type": "markdown",
      "id": "8f5a919d",
      "metadata": {
        "id": "8f5a919d"
      },
      "source": [
        "Suppose we want to calculate the **average ocean temperature** for **each ocean**. We now have to add all of the elements in the `temperatures` list together and divide it by the number of measurements in that list.\n",
        "\n",
        "To do this, we can add another loop summing the elements of the `temperatures` list together and dividing by the total number of measurements.\n",
        "\n",
        "The **outer loop** loops over the various **oceans**, while the **inner loop** loops over each **temperature measurement** in the `temperatures` list and adds them together."
      ]
    },
    {
      "cell_type": "markdown",
      "id": "b72741a9",
      "metadata": {
        "id": "b72741a9"
      },
      "source": [
        "Summing all the temperatures:"
      ]
    },
    {
      "cell_type": "code",
      "execution_count": null,
      "id": "bbe8d4b1",
      "metadata": {
        "colab": {
          "base_uri": "https://localhost:8080/"
        },
        "id": "bbe8d4b1",
        "outputId": "2b17910e-343f-4f22-e963-1eb8690badda"
      },
      "outputs": [
        {
          "output_type": "stream",
          "name": "stdout",
          "text": [
            "Ocean: Pacific: Sum = 152.20000000000002\n",
            "Ocean: Atlantic: Sum = 153.9\n",
            "Ocean: Indian: Sum = -201.8\n"
          ]
        }
      ],
      "source": [
        "#Outer loop of oceans\n",
        "for ocean, temperatures in ocean_temperatures.items():\n",
        "    sum_temperatures = 0 # We start with a sum of 0 for each ocean.\n",
        "\n",
        "    #Inner loop of temperatures in each ocean\n",
        "    for temperature in temperatures:\n",
        "        sum_temperatures += temperature #sum all of the temperatures in a list together\n",
        "\n",
        "    print(f\"Ocean: {ocean}: Sum = {sum_temperatures}\")"
      ]
    },
    {
      "cell_type": "markdown",
      "id": "68314423",
      "metadata": {
        "id": "68314423"
      },
      "source": [
        "To calculate the average, we have to divide `sum_temperatures` by the total number of measurements in each list, which is the `len(temperatures)`."
      ]
    },
    {
      "cell_type": "markdown",
      "id": "9b05795b",
      "metadata": {
        "id": "9b05795b"
      },
      "source": [
        "Calculating averages:"
      ]
    },
    {
      "cell_type": "code",
      "execution_count": null,
      "id": "bedb3b7c",
      "metadata": {
        "colab": {
          "base_uri": "https://localhost:8080/"
        },
        "id": "bedb3b7c",
        "outputId": "e8ae198e-5d7c-42d7-a085-d3426fecd5b3"
      },
      "outputs": [
        {
          "output_type": "stream",
          "name": "stdout",
          "text": [
            "for Pacific there are 6 measurements and the sum is 152.20000000000002 \n",
            "Ocean: Pacific: avg = 25.36666666666667\n",
            "for Atlantic there are 6 measurements and the sum is 153.9 \n",
            "Ocean: Atlantic: avg = 25.650000000000002\n",
            "for Indian there are 7 measurements and the sum is -201.8 \n",
            "Ocean: Indian: avg = -28.82857142857143\n"
          ]
        }
      ],
      "source": [
        "#Outer loop of oceans\n",
        "for ocean, temperatures in ocean_temperatures.items():\n",
        "    sum_temperatures = 0 # We start with a sum of 0 for each ocean.\n",
        "    avg_temperatures  = 0 # We start with an average of 0 for each ocean.\n",
        "\n",
        "    #Inner loop of temperatures in each ocean\n",
        "    for temperature in temperatures:\n",
        "        sum_temperatures += temperature #sum all of the temperatures in a list together\n",
        "\n",
        "    print(f\"for {ocean} there are {len(temperatures)} measurements and the sum is {sum_temperatures} \")\n",
        "\n",
        "    average_temp = sum_temperatures/len(temperatures) # calculate the average\n",
        "    print(f\"Ocean: {ocean}: avg = {average_temp}\")"
      ]
    },
    {
      "cell_type": "markdown",
      "id": "0438f062",
      "metadata": {
        "id": "0438f062"
      },
      "source": [
        "Note that for each ocean in the outer loop, we set the average to 0 again. If we don't, the sum and averages will accumulate across the three different oceans. Try to comment out those lines and see what the effect will be."
      ]
    },
    {
      "cell_type": "markdown",
      "id": "4c618c6b",
      "metadata": {
        "id": "4c618c6b"
      },
      "source": [
        "## Loop controls\n",
        "Did you notice that the average temperature of the warmest ocean, the Indian Ocean, is about -29°C? Also, note that some of the measurements in the Atlantic and Indian oceans are over 29°C. These outliers are affecting our average temperature calculations, so we need to check for these outliers and remove them.\n",
        "\n",
        "Suppose we want to remove the outliers in the following way:\n",
        "1. If a value is over 29°C, do not use it in the calculation.\n",
        "2. Once a value has gone below 0°C, do not use the measurement, and also do not use any of the remaining data onward."
      ]
    },
    {
      "cell_type": "code",
      "execution_count": 10,
      "id": "671ec85a",
      "metadata": {
        "id": "671ec85a"
      },
      "outputs": [],
      "source": [
        "ocean_temperatures = {\n",
        "    'Pacific': [25, 25.3, 25.6, 25.2, 25.5, 25.6],\n",
        "    'Atlantic': [23.4, 23.8, 23.7, 29.9, 24.0, 29.1],# A value greater than 29 is an outlier, so we will remove it.\n",
        "    'Indian': [26.5, 26.7, 27.0, -29, -55, -99, -99] # Once it goes below 0°C, the values are not useful\n",
        "}"
      ]
    },
    {
      "cell_type": "markdown",
      "id": "d71ae0ed",
      "metadata": {
        "id": "d71ae0ed"
      },
      "source": [
        "We can use conditional flow logic (`if temp > 29` and `if temp < 0`) with loop controls (`break` and `continue`) to solve this problem.\n",
        "\n",
        "If we want to remove outliers **above** 29°C, we have to check if the value is over 29°C, and if it is, we **don't add it**. We can use `continue` to skip the rest of the code in the inner loop where we sum the element.\n",
        "\n",
        "If we want to remove all of the values after we get a value less than 0°C, we want to stop checking the items on the list. To do this, we have to stop the inner loop with a `break` statement and move on to the next ocean. All values after the first negative one are removed."
      ]
    },
    {
      "cell_type": "code",
      "execution_count": 13,
      "id": "4b92ae37",
      "metadata": {
        "id": "4b92ae37",
        "colab": {
          "base_uri": "https://localhost:8080/"
        },
        "outputId": "f3970cf9-fe3d-4845-b5fd-814fe8f79073"
      },
      "outputs": [
        {
          "output_type": "stream",
          "name": "stdout",
          "text": [
            "The average temperature for the Pacific Ocean is 25.37°C.\n",
            "Disregarding temperature: 29.9 as an outlier for Atlantic.\n",
            "Disregarding temperature: 29.1 as an outlier for Atlantic.\n",
            "The average temperature for the Atlantic Ocean is 23.73°C.\n",
            "Indian ocean sensor malfunction. Value -29 onward ignored.\n",
            "The average temperature for the Indian Ocean is 26.73°C.\n"
          ]
        }
      ],
      "source": [
        "for ocean, temperatures in ocean_temperatures.items():\n",
        "    sum_temperatures = 0\n",
        "    count_temperatures = 0\n",
        "\n",
        "    # For each ocean, loop through the temperatures lists\n",
        "    for temp in temperatures:\n",
        "        # The ocean temperature is too low, so the sensor is malfunctioning.\n",
        "        if temp < 0: # The ocean temperature is too low, the sensor is malfunctioning.\n",
        "            print(f\"{ocean} ocean sensor malfunction. Value {temp} onward ignored.\")\n",
        "            break #stop using measurements from the sensor\n",
        "\n",
        "        # Imagine we want to disregard temperatures above 27 degrees as outliers\n",
        "        if temp > 29:\n",
        "            print(f\"Disregarding temperature: {temp} as an outlier for {ocean}.\")\n",
        "            continue  # Skip this temperature measurement\n",
        "\n",
        "        sum_temperatures += temp\n",
        "        count_temperatures += 1\n",
        "\n",
        "    # Calculate the average temperature.\n",
        "    average_temp = sum_temperatures / count_temperatures\n",
        "    print(f\"The average temperature for the {ocean} Ocean is {average_temp:.2f}°C.\")"
      ]
    },
    {
      "cell_type": "markdown",
      "id": "29ee5309",
      "metadata": {
        "id": "29ee5309"
      },
      "source": [
        "# List comprehension\n",
        "We always aim to create code that is simple to read. **List comprehension** is a simple way to write simple loops that create lists.\n",
        "\n",
        "If we wanted to filter some data or transform data in a list it is easier to read a list comprehension than using loops.\n",
        "\n",
        "To transform data in a list, we use the following syntax:"
      ]
    },
    {
      "cell_type": "code",
      "execution_count": 17,
      "id": "d0c21484",
      "metadata": {
        "id": "d0c21484",
        "colab": {
          "base_uri": "https://localhost:8080/",
          "height": 263
        },
        "outputId": "21dba6e2-8739-42b9-f25d-0b79216f3961"
      },
      "outputs": [
        {
          "output_type": "error",
          "ename": "NameError",
          "evalue": "name 'input_list' is not defined",
          "traceback": [
            "\u001b[0;31m---------------------------------------------------------------------------\u001b[0m",
            "\u001b[0;31mNameError\u001b[0m                                 Traceback (most recent call last)",
            "\u001b[0;32m/tmp/ipython-input-788211144.py\u001b[0m in \u001b[0;36m<cell line: 0>\u001b[0;34m()\u001b[0m\n\u001b[0;32m----> 1\u001b[0;31m \u001b[0;34m[\u001b[0m\u001b[0mexpression\u001b[0m \u001b[0;32mfor\u001b[0m \u001b[0mitem\u001b[0m \u001b[0;32min\u001b[0m \u001b[0minput_list\u001b[0m\u001b[0;34m]\u001b[0m\u001b[0;34m\u001b[0m\u001b[0;34m\u001b[0m\u001b[0m\n\u001b[0m",
            "\u001b[0;31mNameError\u001b[0m: name 'input_list' is not defined"
          ]
        }
      ],
      "source": [
        "[expression for item in input_list]"
      ]
    },
    {
      "cell_type": "markdown",
      "id": "6298640e",
      "metadata": {
        "id": "6298640e"
      },
      "source": [
        "The `expression` is how we want to change each item (`item + 1`, `item ** 2`), and `for item in list` specifies what we want to loop over. The comprehension is enclosed in `[]` because the result is a list, and we can use any iterable as input.\n",
        "\n",
        "This one line replaces the code below:"
      ]
    },
    {
      "cell_type": "code",
      "execution_count": 18,
      "id": "623e6984",
      "metadata": {
        "id": "623e6984",
        "colab": {
          "base_uri": "https://localhost:8080/",
          "height": 349
        },
        "outputId": "75b88ea7-9b17-4df8-dd21-4b92ae7cec17"
      },
      "outputs": [
        {
          "output_type": "error",
          "ename": "NameError",
          "evalue": "name 'input_list' is not defined",
          "traceback": [
            "\u001b[0;31m---------------------------------------------------------------------------\u001b[0m",
            "\u001b[0;31mNameError\u001b[0m                                 Traceback (most recent call last)",
            "\u001b[0;32m/tmp/ipython-input-3161665809.py\u001b[0m in \u001b[0;36m<cell line: 0>\u001b[0;34m()\u001b[0m\n\u001b[1;32m      1\u001b[0m \u001b[0moutput_list\u001b[0m \u001b[0;34m=\u001b[0m \u001b[0;34m[\u001b[0m\u001b[0;34m]\u001b[0m\u001b[0;34m\u001b[0m\u001b[0;34m\u001b[0m\u001b[0m\n\u001b[1;32m      2\u001b[0m \u001b[0;34m\u001b[0m\u001b[0m\n\u001b[0;32m----> 3\u001b[0;31m \u001b[0;32mfor\u001b[0m \u001b[0mitem\u001b[0m \u001b[0;32min\u001b[0m \u001b[0minput_list\u001b[0m\u001b[0;34m:\u001b[0m\u001b[0;34m\u001b[0m\u001b[0;34m\u001b[0m\u001b[0m\n\u001b[0m\u001b[1;32m      4\u001b[0m     \u001b[0mresult\u001b[0m \u001b[0;34m=\u001b[0m \u001b[0mexpression\u001b[0m \u001b[0;31m# item ** 2 for example\u001b[0m\u001b[0;34m\u001b[0m\u001b[0;34m\u001b[0m\u001b[0m\n\u001b[1;32m      5\u001b[0m     \u001b[0moutput_list\u001b[0m\u001b[0;34m.\u001b[0m\u001b[0mappend\u001b[0m\u001b[0;34m(\u001b[0m\u001b[0mresult\u001b[0m\u001b[0;34m)\u001b[0m\u001b[0;34m\u001b[0m\u001b[0;34m\u001b[0m\u001b[0m\n",
            "\u001b[0;31mNameError\u001b[0m: name 'input_list' is not defined"
          ]
        }
      ],
      "source": [
        "output_list = []\n",
        "\n",
        "for item in input_list:\n",
        "    result = expression # item ** 2 for example\n",
        "    output_list.append(result)"
      ]
    },
    {
      "cell_type": "markdown",
      "id": "698ff47b",
      "metadata": {
        "id": "698ff47b"
      },
      "source": [
        "For example, if we wanted to convert the temperature data from the Atlantic Ocean to Kelvin (another unit of temperature), we have to add 273 to the value:\n",
        "\n",
        "$ Kelvin  =  ^{\\circ}C + 273 $\n",
        "\n",
        "If we use list comprehension, we can add 273 to each element in the list and save it as the output list."
      ]
    },
    {
      "cell_type": "code",
      "execution_count": 20,
      "id": "fae89269",
      "metadata": {
        "id": "fae89269",
        "colab": {
          "base_uri": "https://localhost:8080/"
        },
        "outputId": "072a5995-59f3-413c-9d75-1b6e2c415f64"
      },
      "outputs": [
        {
          "output_type": "stream",
          "name": "stdout",
          "text": [
            "[296.4, 296.8, 296.7, 302.9, 297.0, 302.1]\n"
          ]
        }
      ],
      "source": [
        "atlantic_temp_C = [23.4, 23.8, 23.7, 29.9, 24.0, 29.1]\n",
        "\n",
        "atlantic_temp_K = [temp + 273 for temp in atlantic_temp_C]\n",
        "print(atlantic_temp_K)"
      ]
    },
    {
      "cell_type": "markdown",
      "id": "a122ce45",
      "metadata": {
        "id": "a122ce45"
      },
      "source": [
        "Instead of this:"
      ]
    },
    {
      "cell_type": "code",
      "execution_count": 21,
      "id": "79185d31",
      "metadata": {
        "id": "79185d31",
        "colab": {
          "base_uri": "https://localhost:8080/"
        },
        "outputId": "6f23a342-9926-4a44-a092-b7384c5139c7"
      },
      "outputs": [
        {
          "output_type": "stream",
          "name": "stdout",
          "text": [
            "[296.4, 296.8, 296.7, 302.9, 297.0, 302.1]\n"
          ]
        }
      ],
      "source": [
        "atlantic_temp_K = []\n",
        "\n",
        "for temp in atlantic_temp_C:\n",
        "    temp += 273\n",
        "    atlantic_temp_K.append(temp)\n",
        "\n",
        "print(atlantic_temp_K)"
      ]
    },
    {
      "cell_type": "markdown",
      "id": "c27e1c87",
      "metadata": {
        "id": "c27e1c87"
      },
      "source": [
        "The list comprehension is shorter and simpler to read."
      ]
    },
    {
      "cell_type": "markdown",
      "id": "f8368242",
      "metadata": {
        "id": "f8368242"
      },
      "source": [
        "### Filtering data with conditionals in comprehensions\n",
        "\n",
        "We can also use list comprehensions to create data filters in one line.\n",
        "\n",
        "The basic syntax looks like this:"
      ]
    },
    {
      "cell_type": "code",
      "execution_count": null,
      "id": "b1c97217",
      "metadata": {
        "id": "b1c97217"
      },
      "outputs": [],
      "source": [
        "[expression for item in input_list if condition else condition]"
      ]
    },
    {
      "cell_type": "markdown",
      "id": "ac20a8df",
      "metadata": {
        "id": "ac20a8df"
      },
      "source": [
        "To filter, we can add `if` and a condition after `expression for item in input_list` with the conditions we want the data to satisfy. For example, if we wanted to remove all data less than 0 we can add a conditional statement to the end of the comprehension."
      ]
    },
    {
      "cell_type": "code",
      "execution_count": 22,
      "id": "10a782ff",
      "metadata": {
        "id": "10a782ff",
        "colab": {
          "base_uri": "https://localhost:8080/"
        },
        "outputId": "26373584-06ed-4cc6-a715-167b6ba6a43a"
      },
      "outputs": [
        {
          "output_type": "execute_result",
          "data": {
            "text/plain": [
              "[26.5, 26.7, 27.0]"
            ]
          },
          "metadata": {},
          "execution_count": 22
        }
      ],
      "source": [
        "Indian_temp_C = [26.5, 26.7, 27.0, -29, -55, -99, -99]\n",
        "\n",
        "[temp for temp in Indian_temp_C if temp > 0]"
      ]
    },
    {
      "cell_type": "markdown",
      "id": "17bce1f7",
      "metadata": {
        "id": "17bce1f7"
      },
      "source": [
        "`temp for temp` may be a bit confusing, but it is just the case where the expression does nothing. We can think of it as `[temp * 1 for temp in Indian_temp_C if temp > 0]`.\n",
        "\n",
        "This list comprehension removes all values that are less than 0.  \n",
        "\n",
        "We can add a second condition that values also cannot be larger than 29."
      ]
    },
    {
      "cell_type": "code",
      "execution_count": 23,
      "id": "f90fb0ec",
      "metadata": {
        "id": "f90fb0ec",
        "colab": {
          "base_uri": "https://localhost:8080/"
        },
        "outputId": "f2cf1638-c039-4ffc-a30b-c51a44e51d6c"
      },
      "outputs": [
        {
          "output_type": "execute_result",
          "data": {
            "text/plain": [
              "[26.5, 26.7, 27.0]"
            ]
          },
          "metadata": {},
          "execution_count": 23
        }
      ],
      "source": [
        "Indian_temp_C = [26.5, 26.7, 27.0, -29, -55, -99, -99]\n",
        "\n",
        "[temp for temp in Indian_temp_C if temp > 0 if temp < 29]"
      ]
    },
    {
      "cell_type": "markdown",
      "id": "971bd177",
      "metadata": {
        "id": "971bd177"
      },
      "source": [
        "Or we could use an `and` operator to check both conditions."
      ]
    },
    {
      "cell_type": "code",
      "execution_count": 24,
      "id": "f4233739",
      "metadata": {
        "id": "f4233739",
        "colab": {
          "base_uri": "https://localhost:8080/"
        },
        "outputId": "68e1f7a2-84f0-4adc-90a5-90c317b3da94"
      },
      "outputs": [
        {
          "output_type": "execute_result",
          "data": {
            "text/plain": [
              "[26.5, 26.7, 27.0]"
            ]
          },
          "metadata": {},
          "execution_count": 24
        }
      ],
      "source": [
        "Indian_temp_C = [26.5, 26.7, 27.0, -29, -55, -99, -99]\n",
        "\n",
        "[temp for temp in Indian_temp_C if temp > 0 and temp < 29]"
      ]
    },
    {
      "cell_type": "markdown",
      "id": "ffd35859",
      "metadata": {
        "id": "ffd35859"
      },
      "source": [
        "What will happen if we convert the `Indian_temp_C` to Kelvin while keeping the conditions?\n",
        "\n",
        "Since we are iterating over the `Indian_temp_C` object, we can still use the temp iterators in our conditional statements. The output of this filtering is then transformed to Kelvin, yielding the final result."
      ]
    },
    {
      "cell_type": "code",
      "execution_count": 25,
      "id": "bddf1791",
      "metadata": {
        "id": "bddf1791",
        "colab": {
          "base_uri": "https://localhost:8080/"
        },
        "outputId": "117b26b3-ba6f-4505-decf-d0b5aa407958"
      },
      "outputs": [
        {
          "output_type": "stream",
          "name": "stdout",
          "text": [
            "[299.5, 299.7, 300.0]\n"
          ]
        }
      ],
      "source": [
        "Indian_temp_K = [temp + 273 for temp in Indian_temp_C if temp > 0 and temp < 29]\n",
        "print(Indian_temp_K)"
      ]
    },
    {
      "cell_type": "markdown",
      "id": "2c46c611",
      "metadata": {
        "id": "2c46c611"
      },
      "source": [
        "# Dictionary comprehension\n",
        "We often use dictionaries to store labelled data, so creating new dictionaries with comprehension is a simple and readable way to reorganise data. Dictionary comprehensions create new dictionaries, so we need to create key-value pairs.\n",
        "\n",
        "The basic syntax is:"
      ]
    },
    {
      "cell_type": "code",
      "execution_count": null,
      "id": "1c35e97c",
      "metadata": {
        "id": "1c35e97c"
      },
      "outputs": [],
      "source": [
        "{key_expression: value_expression for item in iterator}"
      ]
    },
    {
      "cell_type": "markdown",
      "id": "d56fed8d",
      "metadata": {
        "id": "d56fed8d"
      },
      "source": [
        "Where `key_expression` is how we want to create the keys and `value_expression` is how we want to create the values. The is a dictionary, so we enclose it in `{}`."
      ]
    },
    {
      "cell_type": "markdown",
      "id": "d42be3a7",
      "metadata": {
        "id": "d42be3a7"
      },
      "source": [
        "For example, we can create a dictionary of numbers (keys) with the values being the square of the keys."
      ]
    },
    {
      "cell_type": "code",
      "execution_count": 27,
      "id": "2b48f7c5",
      "metadata": {
        "id": "2b48f7c5",
        "colab": {
          "base_uri": "https://localhost:8080/"
        },
        "outputId": "122a9287-61ee-4e8a-bc7f-bbc7c264a393"
      },
      "outputs": [
        {
          "output_type": "stream",
          "name": "stdout",
          "text": [
            "{1: 1, 2: 4, 3: 9, 4: 16, 5: 25, 6: 36, 7: 49, 8: 64, 9: 81, 10: 100}\n"
          ]
        }
      ],
      "source": [
        "numbers = range(1,11)\n",
        "numbers_and_squares = {x: x**2 for x in numbers}\n",
        "print(numbers_and_squares)"
      ]
    },
    {
      "cell_type": "markdown",
      "id": "65ed6d95",
      "metadata": {
        "id": "65ed6d95"
      },
      "source": [
        "Or we could create a copy of the `ocean_temperatures` dictionary with the oceans as the keys, and retrieve the first temperature in `temperatures`."
      ]
    },
    {
      "cell_type": "code",
      "execution_count": 28,
      "id": "cbbef6af",
      "metadata": {
        "id": "cbbef6af",
        "colab": {
          "base_uri": "https://localhost:8080/"
        },
        "outputId": "4c674318-5e08-42bc-855f-2cbfd0f91212"
      },
      "outputs": [
        {
          "output_type": "stream",
          "name": "stdout",
          "text": [
            "{'Pacific': 25, 'Atlantic': 23.4, 'Indian': 26.5}\n"
          ]
        }
      ],
      "source": [
        "ocean_temperatures = {\n",
        "    'Pacific': [25, 25.3, 25.6, 25.2, 25.5, 25.6],\n",
        "    'Atlantic': [23.4, 23.8, 23.7, 29.9, 24.0, 29.1],  # Exclude > 29\n",
        "    'Indian': [26.5, 26.7, 27.0, -29, -55, -99, -99]    # Exclude < 0\n",
        "}\n",
        "\n",
        "# Using dictionary comprehension\n",
        "ocean_temp_C = {\n",
        "    ocean: temps[0] for ocean, temps in ocean_temperatures.items()\n",
        "}\n",
        "\n",
        "print(ocean_temp_C)"
      ]
    },
    {
      "cell_type": "markdown",
      "id": "36fa3647",
      "metadata": {
        "id": "36fa3647"
      },
      "source": [
        "## Best practices for using loops in Python\n",
        "\n",
        "When working with loops in Python, it's important to follow best practices for efficient and readable code. Here are some key guidelines:\n",
        "\n",
        "1. **Choose the right loop:** Use `for` loops when the number of iterations is predetermined or when iterating over collections. Use `while` loops for conditions that need to be checked at each iteration.\n",
        "\n",
        "1. **Avoid infinite loops:** Always ensure that `while` loops have a clear exit condition to prevent infinite loops.\n",
        "\n",
        "1. **Use break and continue wisely:** These should be used to control loop execution flow, but avoid overusing them as they can make logic hard to follow.\n",
        "\n",
        "1. **Keep loops uncluttered:** Try to keep the code inside loops simple and focused. If the loop body gets complicated, consider breaking it down into smaller pieces.\n",
        "\n",
        "1. **Optimise nested loops:** Be cautious with nested loops as they can significantly impact performance. Explore alternative data structures or algorithms if working with large datasets.\n",
        "\n",
        "1. **Readability matters:** Write loops that are easy to read and understand. This includes using descriptive variable names and adding comments where necessary.\n",
        "\n",
        "1. **Refactor when needed:** If a loop is too complex or not performing well, don't hesitate to refactor it. Sometimes, a different approach can significantly improve the efficiency and readability of your code."
      ]
    },
    {
      "cell_type": "markdown",
      "id": "e9956efe",
      "metadata": {
        "tags": [],
        "id": "e9956efe"
      },
      "source": [
        "## Summary\n",
        "In this notebook, we've explored the fundamental concepts of loops in Python, including their syntax, different types, and practical applications. We've learned that **loops are essential** for automating **repetitive** tasks and efficiently processing collections of data. By understanding the nuances of `for` and `while` loops, as well as loop control statements like `break`, `continue`, and `pass`, we can write more effective and efficient Python code.\n",
        "\n",
        "Remember, the key to mastering loops lies in practice and thoughtful implementation. By following the best practices outlined, we'll be well-equipped to use loops to solve a wide array of programming challenges, making our Python coding journey both enjoyable and productive."
      ]
    },
    {
      "cell_type": "markdown",
      "id": "30799a0c",
      "metadata": {
        "id": "30799a0c"
      },
      "source": [
        "#  \n",
        "\n",
        "<div align=\"center\" style=\" font-size: 80%; text-align: center; margin: 0 auto\">\n",
        "<img src=\"https://raw.githubusercontent.com/Explore-AI/Pictures/refs/heads/master/ALX_banners/ALX_Navy.png\"  style=\"width:140px\";/>\n",
        "</div>"
      ]
    },
    {
      "cell_type": "markdown",
      "metadata": {
        "id": "16b2790d"
      },
      "source": [
        "```\n",
        "# List comprehension\n",
        "We always aim to create code that is simple to read. **List comprehension** is a simple way to write simple loops that create lists.\n",
        "\n",
        "If we wanted to filter some data or transform data in a list it is easier to read a list comprehension than using loops.\n",
        "\n",
        "To transform data in a list, we use the following syntax (this is a syntax example, not executable code):\n",
        "```"
      ],
      "id": "16b2790d"
    }
  ],
  "metadata": {
    "kernelspec": {
      "display_name": "Python 3 (ipykernel)",
      "language": "python",
      "name": "python3"
    },
    "language_info": {
      "codemirror_mode": {
        "name": "ipython",
        "version": 3
      },
      "file_extension": ".py",
      "mimetype": "text/x-python",
      "name": "python",
      "nbconvert_exporter": "python",
      "pygments_lexer": "ipython3",
      "version": "3.10.9"
    },
    "colab": {
      "provenance": [],
      "include_colab_link": true
    }
  },
  "nbformat": 4,
  "nbformat_minor": 5
}