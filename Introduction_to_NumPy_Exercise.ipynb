{
  "cells": [
    {
      "cell_type": "markdown",
      "metadata": {
        "id": "view-in-github",
        "colab_type": "text"
      },
      "source": [
        "<a href=\"https://colab.research.google.com/github/JoelJ77/nitda-blockchain-scholarship/blob/main/Introduction_to_NumPy_Exercise.ipynb\" target=\"_parent\"><img src=\"https://colab.research.google.com/assets/colab-badge.svg\" alt=\"Open In Colab\"/></a>"
      ]
    },
    {
      "cell_type": "markdown",
      "id": "cd88ea27",
      "metadata": {
        "id": "cd88ea27"
      },
      "source": [
        "<div align=\"center\" style=\" font-size: 80%; text-align: center; margin: 0 auto\">\n",
        "<img src=\"https://raw.githubusercontent.com/Explore-AI/Pictures/master/Python-Notebook-Banners/Exercise.png\"  style=\"display: block; margin-left: auto; margin-right: auto;\";/>\n",
        "</div>"
      ]
    },
    {
      "cell_type": "markdown",
      "id": "f662d169",
      "metadata": {
        "id": "f662d169"
      },
      "source": [
        "# Exercise: Introduction to NumPy\n"
      ]
    },
    {
      "cell_type": "markdown",
      "id": "26af890c",
      "metadata": {
        "id": "26af890c"
      },
      "source": [
        "In this notebook, we explore the fundamentals of NumPy for efficient data manipulation and analysis in Python.\n"
      ]
    },
    {
      "cell_type": "markdown",
      "id": "2d230d14",
      "metadata": {
        "tags": [],
        "id": "2d230d14"
      },
      "source": [
        "## Learning objectives\n",
        "\n",
        "In this train, we will learn:\n",
        "- How to create, reshape, and manipulate arrays using NumPy.\n",
        "- How to access and modify elements in NumPy arrays.\n",
        "- How to apply key NumPy functions to analyse real-world problems."
      ]
    },
    {
      "cell_type": "markdown",
      "id": "de45a481",
      "metadata": {
        "id": "de45a481"
      },
      "source": [
        "## Exercises"
      ]
    },
    {
      "cell_type": "code",
      "execution_count": 1,
      "metadata": {
        "id": "RK9ZBZ8rO5VP"
      },
      "outputs": [],
      "source": [
        "import numpy as np"
      ],
      "id": "RK9ZBZ8rO5VP"
    },
    {
      "cell_type": "markdown",
      "id": "5a0b7683",
      "metadata": {
        "tags": [],
        "id": "5a0b7683"
      },
      "source": [
        "### Exercise 1\n",
        "\n",
        "Given a 2D NumPy array, `pollution_data`, representing daily air quality index values of a city for a week (rows for days and columns for different pollutants), write a code snippet to return the day (row) with the highest average pollution level."
      ]
    },
    {
      "cell_type": "code",
      "execution_count": 2,
      "metadata": {
        "id": "tBj72l_ZO5VR"
      },
      "outputs": [],
      "source": [
        "pollution_data = np.array([[45, 65, 70], [55, 60, 50], [60, 58, 67]])"
      ],
      "id": "tBj72l_ZO5VR"
    },
    {
      "cell_type": "code",
      "execution_count": 15,
      "id": "c2ee76ec",
      "metadata": {
        "colab": {
          "base_uri": "https://localhost:8080/"
        },
        "id": "c2ee76ec",
        "outputId": "dba6bdd1-b18e-4f24-db70-4fa8acbd551f"
      },
      "outputs": [
        {
          "output_type": "stream",
          "name": "stdout",
          "text": [
            "[60 58 67]\n"
          ]
        }
      ],
      "source": [
        "# insert code here\n",
        "pollution_data = np.array([[45, 65, 70], [55, 60, 50], [60, 58, 67]])\n",
        "\n",
        "most_polluted_day_index = np.argmax(pollution_data.mean(axis=1))\n",
        "\n",
        "print(pollution_data[most_polluted_day_index])"
      ]
    },
    {
      "cell_type": "markdown",
      "id": "dc9b7dc6",
      "metadata": {
        "id": "dc9b7dc6"
      },
      "source": [
        "### Exercise 2\n",
        "\n",
        "A forest department is monitoring deforestation by analysing satellite data of five similarly sized regions. When the monitoring started, each region had full forest coverage (i.e. 100). The most recent data collected has been stored in a 1D NumPy array, `forest_coverage`, where each element represents the percentage of forest cover in different regions. Write code to calculate the total percentage of coverage **lost**, if each 1% reduction in forest cover equals 100 square kilometres."
      ]
    },
    {
      "cell_type": "code",
      "execution_count": null,
      "metadata": {
        "id": "IK6m9PghO5VS"
      },
      "outputs": [],
      "source": [
        "forest_coverage = np.array([70, 80, 65, 90, 85])"
      ],
      "id": "IK6m9PghO5VS"
    },
    {
      "cell_type": "code",
      "execution_count": 12,
      "id": "ae48fab0",
      "metadata": {
        "colab": {
          "base_uri": "https://localhost:8080/"
        },
        "id": "ae48fab0",
        "outputId": "4a75acb4-7673-4672-b783-6d57acd51547"
      },
      "outputs": [
        {
          "output_type": "stream",
          "name": "stdout",
          "text": [
            "11000\n"
          ]
        }
      ],
      "source": [
        "# insert code here\n",
        "forest_coverage = np.array([70, 80, 65, 90, 85])\n",
        "\n",
        "total_forest_cover_lost = (100 - forest_coverage).sum() * 100\n",
        "\n",
        "print(total_forest_cover_lost)"
      ]
    },
    {
      "cell_type": "markdown",
      "metadata": {
        "id": "jcLj_7xOO5VT"
      },
      "source": [
        "### Exercise 3\n",
        "\n",
        "For a study on water conservation, we have a 2D NumPy array, `water_quality`, representing different water quality parameters (columns) for various water bodies (rows). Write code to find the water body index (row index) with the worst average quality parameter."
      ],
      "id": "jcLj_7xOO5VT"
    },
    {
      "cell_type": "code",
      "execution_count": null,
      "metadata": {
        "id": "bLda2UEoO5VT"
      },
      "outputs": [],
      "source": [
        "water_quality = np.array([[7.8, 6.5, 8.0], [5.4, 7.2, 6.5]])"
      ],
      "id": "bLda2UEoO5VT"
    },
    {
      "cell_type": "code",
      "execution_count": 13,
      "metadata": {
        "colab": {
          "base_uri": "https://localhost:8080/"
        },
        "id": "Yuybp2CYO5VT",
        "outputId": "817e1c2a-7919-463c-e1ac-bb85f77be67d"
      },
      "outputs": [
        {
          "output_type": "stream",
          "name": "stdout",
          "text": [
            "1\n"
          ]
        }
      ],
      "source": [
        "# insert code here\n",
        "water_quality = np.array([[7.8, 6.5, 8.0], [5.4, 7.2, 6.5]])\n",
        "\n",
        "worst_water_quality_index = np.argmin(water_quality.mean(axis=1))\n",
        "\n",
        "print(worst_water_quality_index)"
      ],
      "id": "Yuybp2CYO5VT"
    },
    {
      "cell_type": "markdown",
      "metadata": {
        "id": "qRKq_Hk8O5VT"
      },
      "source": [
        "### Exercise 4\n",
        "\n",
        "Biologists tracking caracal movement have recorded the number of caracals spotted in different regions in a 2D NumPy array, `animal_sightings`. Each row represents a different region, and columns represent different days. Write a code snippet to find the index of the region with the highest average number of sightings."
      ],
      "id": "qRKq_Hk8O5VT"
    },
    {
      "cell_type": "code",
      "execution_count": null,
      "metadata": {
        "id": "z5AmoBQgO5VU"
      },
      "outputs": [],
      "source": [
        "animal_sightings = np.array([[5, 7, 8], [3, 4, 6], [9, 10, 7]])"
      ],
      "id": "z5AmoBQgO5VU"
    },
    {
      "cell_type": "code",
      "execution_count": 16,
      "metadata": {
        "colab": {
          "base_uri": "https://localhost:8080/"
        },
        "id": "0LD9JgjbO5VU",
        "outputId": "f599ccc8-8d1e-4aea-ad1d-ce3c7726648a"
      },
      "outputs": [
        {
          "output_type": "stream",
          "name": "stdout",
          "text": [
            "2\n"
          ]
        }
      ],
      "source": [
        "# insert code here\n",
        "animal_sightings = np.array([[5, 7, 8], [3, 4, 6], [9, 10, 7]])\n",
        "\n",
        "highest_sightings_region_index = np.argmax(animal_sightings.mean(axis=1))\n",
        "\n",
        "print(highest_sightings_region_index)"
      ],
      "id": "0LD9JgjbO5VU"
    },
    {
      "cell_type": "markdown",
      "metadata": {
        "id": "flhOG6aCO5VU"
      },
      "source": [
        "### Exercise 5\n",
        "\n",
        "`np.reshape()` allows us to change the shape of an array without changing its data. For example, we can reshape a 1D array into a 2D array (matrix) or vice versa, as long as the total number of elements remains the same. Remember to read more about functions in the NumPy documentation if anything is unclear.\n",
        "\n",
        "Biologists have collected data on bird sightings in a region over a month, stored in a 1D NumPy array where each element represents the number of sightings on a particular day. Reshape this data into a 2D array (matrix) representing weeks and days (assume 4 weeks in a month, 7 days per week), and calculate the total sightings for each week."
      ],
      "id": "flhOG6aCO5VU"
    },
    {
      "cell_type": "code",
      "execution_count": null,
      "metadata": {
        "id": "R8GzuzKRO5VU"
      },
      "outputs": [],
      "source": [
        "bird_sightings = np.array([3, 4, 2, 5, 1, 0, 4, 3, 5, 2, 1, 7, 8, 1, 2, 3, 4, 1, 0, 5, 6, 2, 3, 4, 1, 4, 6, 7])"
      ],
      "id": "R8GzuzKRO5VU"
    },
    {
      "cell_type": "code",
      "execution_count": 18,
      "metadata": {
        "colab": {
          "base_uri": "https://localhost:8080/"
        },
        "id": "L5DsuBiuO5VV",
        "outputId": "a7c0e4f1-8047-407e-8a27-938680be3540"
      },
      "outputs": [
        {
          "output_type": "stream",
          "name": "stdout",
          "text": [
            "[19 27 21 27]\n"
          ]
        }
      ],
      "source": [
        "# insert code here\n",
        "bird_sightings = np.array([3, 4, 2, 5, 1, 0, 4, 3, 5, 2, 1, 7, 8, 1, 2, 3, 4, 1, 0, 5, 6, 2, 3, 4, 1, 4, 6, 7])\n",
        "\n",
        "reshaped_sightings = bird_sightings.reshape(4, 7)\n",
        "total_sightings_per_week = reshaped_sightings.sum(axis=1)\n",
        "\n",
        "print(total_sightings_per_week)"
      ],
      "id": "L5DsuBiuO5VV"
    },
    {
      "cell_type": "markdown",
      "metadata": {
        "id": "tdI8bqFVO5VV"
      },
      "source": [
        "### Exercise 6\n",
        "\n",
        "`np.transpose()` is a NumPy function that flips a matrix over its diagonal, switching the row and column indices of the array. This means that the first row becomes the first column, the second row becomes the second column, and so on.\n",
        "\n",
        "Meteorologists have recorded temperature and precipitation data over a year in a 2D array (rows for months, columns for temperature and precipitation). Transpose the array so that rows represent temperature and precipitation, and columns represent months. Then calculate the average temperature and precipitation over the year."
      ],
      "id": "tdI8bqFVO5VV"
    },
    {
      "cell_type": "code",
      "execution_count": null,
      "metadata": {
        "id": "t00ZCH6SO5VV"
      },
      "outputs": [],
      "source": [
        "climate_data = np.array([[22, 50], [25, 43], [28, 35], [30, 20], [27, 25], [25, 30], [23, 40], [24, 55], [22, 60], [20, 65], [18, 70], [22, 58]])"
      ],
      "id": "t00ZCH6SO5VV"
    },
    {
      "cell_type": "code",
      "execution_count": 20,
      "metadata": {
        "colab": {
          "base_uri": "https://localhost:8080/"
        },
        "id": "bRCbmeuSO5VV",
        "outputId": "1db1e480-bf46-4b2c-9d3b-cc3ce24d2bc2"
      },
      "outputs": [
        {
          "output_type": "stream",
          "name": "stdout",
          "text": [
            "[[22 25 28 30 27 25 23 24 22 20 18 22]\n",
            " [50 43 35 20 25 30 40 55 60 65 70 58]]\n",
            "23.833333333333332\n",
            "45.916666666666664\n"
          ]
        }
      ],
      "source": [
        "# insert code here\n",
        "climate_data = np.array([[22, 50], [25, 43], [28, 35], [30, 20], [27, 25], [25, 30], [23, 40], [24, 55], [22, 60], [20, 65], [18, 70], [22, 58]])\n",
        "\n",
        "transposed_climate_data = climate_data.transpose()\n",
        "print(transposed_climate_data)\n",
        "\n",
        "average_temperature = transposed_climate_data[0].mean()\n",
        "average_precipitation = transposed_climate_data[1].mean()\n",
        "\n",
        "print(average_temperature)\n",
        "print(average_precipitation)"
      ],
      "id": "bRCbmeuSO5VV"
    },
    {
      "cell_type": "markdown",
      "id": "555dea0d",
      "metadata": {
        "id": "555dea0d"
      },
      "source": [
        "## Solutions"
      ]
    },
    {
      "cell_type": "markdown",
      "id": "9ff8f391",
      "metadata": {
        "id": "9ff8f391"
      },
      "source": [
        "### Exercise 1\n",
        "\n",
        "`pollution_data.mean(axis=1)` calculates the average pollution level for each day (row). `np.argmax` finds the index of the day with the highest average pollution level."
      ]
    },
    {
      "cell_type": "code",
      "execution_count": null,
      "metadata": {
        "id": "1KrR5KSiO5VW"
      },
      "outputs": [],
      "source": [
        "import numpy as np"
      ],
      "id": "1KrR5KSiO5VW"
    },
    {
      "cell_type": "code",
      "execution_count": null,
      "id": "ad52ad95",
      "metadata": {
        "id": "ad52ad95"
      },
      "outputs": [],
      "source": [
        "pollution_data = np.array([[45, 65, 70], [55, 60, 50], [60, 58, 67]])\n",
        "\n",
        "most_polluted_day_index = np.argmax(pollution_data.mean(axis=1))\n",
        "\n",
        "print(pollution_data[most_polluted_day_index])"
      ]
    },
    {
      "cell_type": "markdown",
      "id": "a10363b6",
      "metadata": {
        "id": "a10363b6"
      },
      "source": [
        "### Exercise 2\n",
        "\n",
        "`100 - forest_coverage` calculates the proportion of deforestation for each region. Summing these loss values and multiplying them by 100 (conversion to square kilometres) gives the total forest cover lost in square kilometres.\n"
      ]
    },
    {
      "cell_type": "code",
      "execution_count": null,
      "id": "09386d51",
      "metadata": {
        "id": "09386d51"
      },
      "outputs": [],
      "source": [
        "forest_coverage = np.array([70, 80, 65, 90, 85])\n",
        "\n",
        "total_forest_cover_lost = (100 - forest_coverage).sum() * 100\n",
        "\n",
        "print(total_forest_cover_lost)"
      ]
    },
    {
      "cell_type": "markdown",
      "metadata": {
        "id": "6lMuA5htO5VX"
      },
      "source": [
        "### Exercise 3\n",
        "\n",
        "`water_quality.mean(axis=1)` computes the average quality parameter for each water body (row). `np.argmin` finds the index of the water body with the worst average quality.\n"
      ],
      "id": "6lMuA5htO5VX"
    },
    {
      "cell_type": "code",
      "execution_count": null,
      "metadata": {
        "id": "3Z5KugJXO5VX"
      },
      "outputs": [],
      "source": [
        "water_quality = np.array([[7.8, 6.5, 8.0], [5.4, 7.2, 6.5]])\n",
        "\n",
        "worst_water_quality_index = np.argmin(water_quality.mean(axis=1))\n",
        "\n",
        "print(worst_water_quality_index)"
      ],
      "id": "3Z5KugJXO5VX"
    },
    {
      "cell_type": "markdown",
      "metadata": {
        "id": "RhJ18xDrO5VX"
      },
      "source": [
        "### Exercise 4\n",
        "\n",
        "`animal_sightings.mean(axis=1)` computes the average number of sightings per region. `np.argmax` finds the index of the region with the highest average.\n"
      ],
      "id": "RhJ18xDrO5VX"
    },
    {
      "cell_type": "code",
      "execution_count": null,
      "metadata": {
        "id": "_7aEKHuiO5VY"
      },
      "outputs": [],
      "source": [
        "animal_sightings = np.array([[5, 7, 8], [3, 4, 6], [9, 10, 7]])\n",
        "\n",
        "highest_sightings_region_index = np.argmax(animal_sightings.mean(axis=1))\n",
        "\n",
        "print(highest_sightings_region_index)"
      ],
      "id": "_7aEKHuiO5VY"
    },
    {
      "cell_type": "markdown",
      "metadata": {
        "id": "VPUaRfUbO5VY"
      },
      "source": [
        "### Exercise 5\n",
        "\n",
        "The `reshape(4, 7)` function reshapes the 1D array into a 2D array with 4 rows (weeks) and 7 columns (days). `sum(axis=1)` calculates the sum along the rows (each week), providing the total bird sightings per week.\n"
      ],
      "id": "VPUaRfUbO5VY"
    },
    {
      "cell_type": "code",
      "execution_count": null,
      "metadata": {
        "id": "OwcLupMnO5VY"
      },
      "outputs": [],
      "source": [
        "bird_sightings = np.array([3, 4, 2, 5, 1, 0, 4, 3, 5, 2, 1, 7, 8, 1, 2, 3, 4, 1, 0, 5, 6, 2, 3, 4, 1, 4, 6, 7])\n",
        "\n",
        "reshaped_sightings = bird_sightings.reshape(4, 7)\n",
        "total_sightings_per_week = reshaped_sightings.sum(axis=1)\n",
        "\n",
        "print(total_sightings_per_week)"
      ],
      "id": "OwcLupMnO5VY"
    },
    {
      "cell_type": "markdown",
      "metadata": {
        "id": "oZK4v3fKO5VY"
      },
      "source": [
        "### Exercise 6\n",
        "\n",
        "`transpose()` changes the shape of `climate_data` so that rows and columns are swapped. Now, the first row represents temperatures and the second row represents precipitation for each month. The `mean()` function calculates the average value for each of these rows, giving the average temperature and precipitation over the year.\n"
      ],
      "id": "oZK4v3fKO5VY"
    },
    {
      "cell_type": "code",
      "execution_count": null,
      "metadata": {
        "id": "SpAP9nHnO5VY"
      },
      "outputs": [],
      "source": [
        "climate_data = np.array([[22, 50], [25, 43], [28, 35], [30, 20], [27, 25], [25, 30], [23, 40], [24, 55], [22, 60], [20, 65], [18, 70], [22, 58]])\n",
        "\n",
        "transposed_climate_data = climate_data.transpose()\n",
        "print(transposed_climate_data)\n",
        "\n",
        "average_temperature = transposed_climate_data[0].mean()\n",
        "average_precipitation = transposed_climate_data[1].mean()\n",
        "\n",
        "print(average_temperature)\n",
        "print(average_precipitation)"
      ],
      "id": "SpAP9nHnO5VY"
    },
    {
      "cell_type": "markdown",
      "id": "26fd094b-0fee-46f1-a4b8-73766813c42b",
      "metadata": {
        "tags": [],
        "id": "26fd094b-0fee-46f1-a4b8-73766813c42b"
      },
      "source": [
        "#  \n",
        "\n",
        "<div align=\"center\" style=\" font-size: 80%; text-align: center; margin: 0 auto\">\n",
        "<img src=\"https://raw.githubusercontent.com/Explore-AI/Pictures/refs/heads/master/ALX_banners/ALX_Navy.png\"  style=\"width:140px\";/>\n",
        "</div>"
      ]
    }
  ],
  "metadata": {
    "kernelspec": {
      "display_name": "Python 3 (ipykernel)",
      "language": "python",
      "name": "python3"
    },
    "language_info": {
      "codemirror_mode": {
        "name": "ipython",
        "version": 3
      },
      "file_extension": ".py",
      "mimetype": "text/x-python",
      "name": "python",
      "nbconvert_exporter": "python",
      "pygments_lexer": "ipython3",
      "version": "3.11.5"
    },
    "colab": {
      "provenance": [],
      "include_colab_link": true
    }
  },
  "nbformat": 4,
  "nbformat_minor": 5
}