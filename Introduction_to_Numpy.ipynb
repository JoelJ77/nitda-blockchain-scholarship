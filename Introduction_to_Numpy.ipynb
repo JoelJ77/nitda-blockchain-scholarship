{
  "cells": [
    {
      "cell_type": "markdown",
      "metadata": {
        "id": "view-in-github",
        "colab_type": "text"
      },
      "source": [
        "<a href=\"https://colab.research.google.com/github/JoelJ77/nitda-blockchain-scholarship/blob/main/Introduction_to_Numpy.ipynb\" target=\"_parent\"><img src=\"https://colab.research.google.com/assets/colab-badge.svg\" alt=\"Open In Colab\"/></a>"
      ]
    },
    {
      "cell_type": "markdown",
      "metadata": {
        "id": "VQ8P19cE765X"
      },
      "source": [
        "<div align=\"center\" style=\" font-size: 80%; text-align: center; margin: 0 auto\">\n",
        "<img src=\"https://raw.githubusercontent.com/Explore-AI/Pictures/master/Python-Notebook-Banners/Examples.png\"  style=\"display: block; margin-left: auto; margin-right: auto;\";/>\n",
        "</div>"
      ]
    },
    {
      "cell_type": "markdown",
      "metadata": {
        "id": "8hK4MWzF765a"
      },
      "source": [
        "# Examples: Introduction to NumPy\n"
      ]
    },
    {
      "cell_type": "markdown",
      "metadata": {
        "id": "RQwmxhgt765a"
      },
      "source": [
        " In this train, we'll learn about NumPy and some of its basic operations. We'll define what an array is, learn how to create, access, and modify an array, and explore useful functions on arrays."
      ]
    },
    {
      "cell_type": "markdown",
      "metadata": {
        "id": "s9ig_lKH765b"
      },
      "source": [
        "## Learning objectives\n",
        "* Understand the NumPy Python library and its basic functionality.\n",
        "* Know how to load, manipulate, and analyse data using NumPy."
      ]
    },
    {
      "cell_type": "markdown",
      "metadata": {
        "id": "NhGvcUGs765b"
      },
      "source": [
        "\n",
        "NumPy is a Python package that allows us to work with data and perform operations like the loading, analysing, and storing of data. It provides high-performance, multi-dimensional array objects and numerical computing tools, and is fundamental in scientific computing. It is the core library for scientific computing in Python ([see the full documentation](https://numpy.org/)).\n",
        "\n",
        "### What is an array?\n",
        "An array in the context of NumPy, a widely used Python library, is a fundamental data structure designed for efficient storage and manipulation of numerical data. Although it shares some similarities with Python lists, there are key differences that make NumPy arrays more suitable for data analysis and scientific computing. Some of these key differences are:\n",
        "- Lists can contain heterogeneous data types (combinations of `str`, `int`, even `list`), whilst NumPy arrays can only store values of the same data type. This restriction allows NumPy to optimise storage and computation, as operations on homogeneously typed elements are more efficient.\n",
        "- NumPy arrays can be thought of as a grid of values and can be multi-dimensional. This multi-dimensional nature makes them extremely versatile for a wide range of applications, from simple lists of values (1D) to images (2D) or even higher-dimensional data.\n",
        "- NumPy arrays are stored more efficiently than Python lists. Lists in Python are essentially arrays of pointers to objects, with each pointer also requiring additional space. In contrast, NumPy arrays directly store data in adjacent blocks of memory. This compact and continuous storage reduces the memory footprint and improves cache utilisation, which is critical for performance in large-scale computations.\n",
        "- One of the most powerful features of NumPy arrays is their support for vectorised operations. This means that operations on arrays, such as addition, multiplication, and complex mathematical functions, can be performed on all elements of the array simultaneously. This is not only more syntactically convenient but also significantly faster than looping over elements, as is common with Python lists.\n",
        "\n",
        "\n",
        "### Creating a NumPy array\n",
        "If we want to work with any NumPy objects or functions, we first need to import the NumPy library.\n"
      ]
    },
    {
      "cell_type": "code",
      "execution_count": 1,
      "metadata": {
        "collapsed": true,
        "jupyter": {
          "outputs_hidden": true
        },
        "id": "krX3Xqjo765c"
      },
      "outputs": [],
      "source": [
        "import numpy as np"
      ]
    },
    {
      "cell_type": "markdown",
      "metadata": {
        "id": "xYpn5kMW765d"
      },
      "source": [
        "### Example 1\n",
        "\n",
        "To create a NumPy array, we use the `np.array()` function. All we need to do is pass a list to it and, optionally, we can specify the data type of the data. Let's look at an example:"
      ]
    },
    {
      "cell_type": "code",
      "execution_count": 2,
      "metadata": {
        "colab": {
          "base_uri": "https://localhost:8080/"
        },
        "id": "1XpjK9Lz765d",
        "outputId": "b1add193-959c-40d8-9eb2-4f39a11524c0"
      },
      "outputs": [
        {
          "output_type": "execute_result",
          "data": {
            "text/plain": [
              "array([[94, 89, 63, 45],\n",
              "       [93, 92, 48, 23],\n",
              "       [92, 94, 56, 98]])"
            ]
          },
          "metadata": {},
          "execution_count": 2
        }
      ],
      "source": [
        "# Create an array by passing in a list of lists.\n",
        "ratings = np.array([[94, 89, 63, 45], [93, 92, 48, 23], [92, 94, 56, 98]])\n",
        "\n",
        "ratings"
      ]
    },
    {
      "cell_type": "markdown",
      "metadata": {
        "id": "eFyFleaQ765e"
      },
      "source": [
        "We can see that there are 3 rows and 4 columns in this array. We can inspect the shape of the array by using its `shape` attribute. This will return a tuple of integers giving the size of the array along each dimension."
      ]
    },
    {
      "cell_type": "code",
      "execution_count": 3,
      "metadata": {
        "colab": {
          "base_uri": "https://localhost:8080/"
        },
        "id": "UTBHV2yJ765e",
        "outputId": "b4617892-6e45-466f-adb2-329e5c411efe"
      },
      "outputs": [
        {
          "output_type": "execute_result",
          "data": {
            "text/plain": [
              "(3, 4)"
            ]
          },
          "metadata": {},
          "execution_count": 3
        }
      ],
      "source": [
        "ratings.shape"
      ]
    },
    {
      "cell_type": "markdown",
      "metadata": {
        "id": "4oF04Zxg765e"
      },
      "source": [
        "### Example 2\n",
        "\n",
        "We can also create arrays using the following functions:\n",
        "\n",
        "* `np.ones()` – array of ones\n",
        "* `np.zeros()` – array of zeros\n",
        "* `np.random.random()` – array with random values\n",
        "\n",
        "Let's look at some examples:"
      ]
    },
    {
      "cell_type": "code",
      "execution_count": 4,
      "metadata": {
        "colab": {
          "base_uri": "https://localhost:8080/"
        },
        "id": "0pMJmlQ3765f",
        "outputId": "78f8a30b-1886-4289-9cf7-101aa66517be"
      },
      "outputs": [
        {
          "output_type": "execute_result",
          "data": {
            "text/plain": [
              "array([[1., 1., 1., 1.],\n",
              "       [1., 1., 1., 1.],\n",
              "       [1., 1., 1., 1.]])"
            ]
          },
          "metadata": {},
          "execution_count": 4
        }
      ],
      "source": [
        "# Create an array of ones – pass in shape as a tuple.\n",
        "np.ones((3,4))"
      ]
    },
    {
      "cell_type": "code",
      "execution_count": 5,
      "metadata": {
        "colab": {
          "base_uri": "https://localhost:8080/"
        },
        "id": "8k3qoTZ5765h",
        "outputId": "d6a8d270-a144-431a-d0e5-8e9d738d7f63"
      },
      "outputs": [
        {
          "output_type": "execute_result",
          "data": {
            "text/plain": [
              "array([[0., 0., 0.],\n",
              "       [0., 0., 0.]])"
            ]
          },
          "metadata": {},
          "execution_count": 5
        }
      ],
      "source": [
        "# Create an array of zeros – pass in shape as a tuple.\n",
        "np.zeros((2, 3))"
      ]
    },
    {
      "cell_type": "code",
      "execution_count": 6,
      "metadata": {
        "colab": {
          "base_uri": "https://localhost:8080/"
        },
        "id": "HHsc_v99765h",
        "outputId": "b3b6ff93-d470-4aa3-f0c8-aad3565adb4b"
      },
      "outputs": [
        {
          "output_type": "execute_result",
          "data": {
            "text/plain": [
              "array([[0.30655463, 0.60473799, 0.07536497],\n",
              "       [0.4521934 , 0.18683968, 0.14287741],\n",
              "       [0.36719561, 0.89810661, 0.49169732]])"
            ]
          },
          "metadata": {},
          "execution_count": 6
        }
      ],
      "source": [
        "# Create an array of random values – pass in shape as a tuple.\n",
        "np.random.random((3, 3))"
      ]
    },
    {
      "cell_type": "markdown",
      "metadata": {
        "id": "OUC5M1wn765i"
      },
      "source": [
        "### Accessing NumPy arrays\n",
        "NumPy offers several ways to index into arrays. Here, we'll work through slicing and Boolean array indexing."
      ]
    },
    {
      "cell_type": "markdown",
      "metadata": {
        "id": "kuqAOekk765i"
      },
      "source": [
        "### Example 3\n",
        "\n",
        "Similar to Python lists, NumPy arrays can be sliced. Since arrays may be multi-dimensional, we must specify a slice for each dimension of the array, where the slices per dimension are split by a comma. For a 2D array, the first dimension is the vertical axis while the second dimension is the horizontal axis.\n",
        "\n",
        "For a 2D array:\n",
        "\n",
        "* `np.array[vertical index , horizontal index]` – for one element\n",
        "* `np.array[vertical start:vertical end , horizontal start:horizontal end]` – for more than one element\n",
        "\n",
        "Let's look at a few examples:"
      ]
    },
    {
      "cell_type": "code",
      "execution_count": 7,
      "metadata": {
        "colab": {
          "base_uri": "https://localhost:8080/"
        },
        "id": "uHzXQmPD765i",
        "outputId": "bb80c039-3791-4577-e943-f872faa82254"
      },
      "outputs": [
        {
          "output_type": "execute_result",
          "data": {
            "text/plain": [
              "array([[94, 89, 63, 45],\n",
              "       [93, 92, 48, 23],\n",
              "       [92, 94, 56, 98]])"
            ]
          },
          "metadata": {},
          "execution_count": 7
        }
      ],
      "source": [
        "# Whole array.\n",
        "ratings"
      ]
    },
    {
      "cell_type": "code",
      "execution_count": 10,
      "metadata": {
        "colab": {
          "base_uri": "https://localhost:8080/"
        },
        "id": "vEaU4RSY765i",
        "outputId": "3e8363f7-2c26-400f-c406-a679fb05a841"
      },
      "outputs": [
        {
          "output_type": "execute_result",
          "data": {
            "text/plain": [
              "np.int64(94)"
            ]
          },
          "metadata": {},
          "execution_count": 10
        }
      ],
      "source": [
        "# Select the top left element.\n",
        "ratings[0, 0]"
      ]
    },
    {
      "cell_type": "code",
      "execution_count": 13,
      "metadata": {
        "colab": {
          "base_uri": "https://localhost:8080/"
        },
        "id": "NsCSHslZ765j",
        "outputId": "3ae3a559-dec1-4b90-c4f5-8a4366f35abf"
      },
      "outputs": [
        {
          "output_type": "execute_result",
          "data": {
            "text/plain": [
              "array([94, 89, 63, 45])"
            ]
          },
          "metadata": {},
          "execution_count": 13
        }
      ],
      "source": [
        "# Select the first row.\n",
        "ratings[0, :]"
      ]
    },
    {
      "cell_type": "code",
      "execution_count": 12,
      "metadata": {
        "colab": {
          "base_uri": "https://localhost:8080/"
        },
        "id": "0v6TGiiB765j",
        "outputId": "c47f9ccb-6b5f-4ee7-dccb-caa43b134008"
      },
      "outputs": [
        {
          "output_type": "execute_result",
          "data": {
            "text/plain": [
              "array([94, 93, 92])"
            ]
          },
          "metadata": {},
          "execution_count": 12
        }
      ],
      "source": [
        "# Select the first column.\n",
        "ratings[:, 0]"
      ]
    },
    {
      "cell_type": "code",
      "execution_count": 14,
      "metadata": {
        "colab": {
          "base_uri": "https://localhost:8080/"
        },
        "id": "sHbydlwt765j",
        "outputId": "1ad102ee-b78b-4ced-d2d4-cb7b7b5f842d"
      },
      "outputs": [
        {
          "output_type": "execute_result",
          "data": {
            "text/plain": [
              "array([[94, 89],\n",
              "       [93, 92]])"
            ]
          },
          "metadata": {},
          "execution_count": 14
        }
      ],
      "source": [
        "# Select the first two rows and first two columns.\n",
        "ratings[0:2, 0:2]"
      ]
    },
    {
      "cell_type": "markdown",
      "metadata": {
        "id": "beWRoq19765j"
      },
      "source": [
        "### Example 4\n",
        "\n",
        "Boolean array indexing lets us pick out a selection of elements from an array. This type of indexing is often used to select the elements of an array which satisfy a specific condition. The syntax is as follows:\n",
        "\n",
        "* `np.array[condition]`\n",
        "\n",
        "Let's look at an example:"
      ]
    },
    {
      "cell_type": "code",
      "execution_count": 15,
      "metadata": {
        "colab": {
          "base_uri": "https://localhost:8080/"
        },
        "id": "8K5rlrSj765k",
        "outputId": "87c87a96-adb1-4664-fe4c-d4062ee8e71e"
      },
      "outputs": [
        {
          "output_type": "execute_result",
          "data": {
            "text/plain": [
              "array([94, 93, 92, 92, 94, 98])"
            ]
          },
          "metadata": {},
          "execution_count": 15
        }
      ],
      "source": [
        "# Select all values greater than 90.\n",
        "ratings[ratings > 90]"
      ]
    },
    {
      "cell_type": "markdown",
      "metadata": {
        "id": "pXN7RUfn765k"
      },
      "source": [
        "### Modifying NumPy arrays\n",
        "We will now look at how to add elements to an array, followed by how to remove elements from an array.\n",
        "\n",
        "### Example 5\n",
        "Adding elements can be done by using the `np.append()` function. This will add elements to the end of an array. Let's look at an example:"
      ]
    },
    {
      "cell_type": "code",
      "execution_count": 16,
      "metadata": {
        "colab": {
          "base_uri": "https://localhost:8080/"
        },
        "id": "yDR2HKzW765k",
        "outputId": "8dca706c-8cb2-4d8f-a22b-1a9968505583"
      },
      "outputs": [
        {
          "output_type": "execute_result",
          "data": {
            "text/plain": [
              "array([[94, 89, 63, 45],\n",
              "       [93, 92, 48, 23],\n",
              "       [92, 94, 56, 98],\n",
              "       [92, 88, 78, 55]])"
            ]
          },
          "metadata": {},
          "execution_count": 16
        }
      ],
      "source": [
        "# Append an extra row – note that axis=0.\n",
        "ratings_extra_row = np.append(ratings, [[92, 88, 78, 55]], axis=0)\n",
        "\n",
        "ratings_extra_row"
      ]
    },
    {
      "cell_type": "markdown",
      "metadata": {
        "id": "I3tTBlkf765k"
      },
      "source": [
        "### Example 6\n",
        "Deleting elements can be done by using the `np.delete()` function. This will delete elements at the specified indices. Let's look at an example:"
      ]
    },
    {
      "cell_type": "code",
      "execution_count": null,
      "metadata": {
        "id": "BgF0a2-j765l"
      },
      "outputs": [],
      "source": [
        "# Delete the 3rd row – note that axis=0.\n",
        "ratings_del_row = np.delete(ratings, [2], axis=0)\n",
        "\n",
        "ratings_del_row"
      ]
    },
    {
      "cell_type": "markdown",
      "metadata": {
        "id": "J7_gcpGV765l"
      },
      "source": [
        "### Functions on NumPy arrays\n",
        "There are various functions we can perform on NumPy arrays. We will look at a few of them, namely:\n",
        "\n",
        "* `np.array.sum()`\n",
        "* `np.array.min()`\n",
        "* `np.array.max()`\n",
        "* `np.array.argmax()`\n",
        "* `np.array.argmin()`"
      ]
    },
    {
      "cell_type": "markdown",
      "metadata": {
        "id": "Zevd3HJd765l"
      },
      "source": [
        "### Example 7\n",
        "In all these functions we can pass an axis argument. When `axis = 1`, we are looking at rows, and when `axis = 0`, we are referring to columns. This will allow us to sum the columns and rows separately. Let's look at examples:"
      ]
    },
    {
      "cell_type": "code",
      "execution_count": 18,
      "metadata": {
        "colab": {
          "base_uri": "https://localhost:8080/"
        },
        "id": "rbY4OhaW765l",
        "outputId": "f5fa7755-0a1c-4343-9531-1f0a9f0a58fe"
      },
      "outputs": [
        {
          "output_type": "execute_result",
          "data": {
            "text/plain": [
              "np.int64(887)"
            ]
          },
          "metadata": {},
          "execution_count": 18
        }
      ],
      "source": [
        "# Sum of all elements in the array.\n",
        "ratings.sum()"
      ]
    },
    {
      "cell_type": "code",
      "execution_count": 19,
      "metadata": {
        "colab": {
          "base_uri": "https://localhost:8080/"
        },
        "id": "dllk15Kr765m",
        "outputId": "419ecacb-a4b1-40d8-ea45-6fd8580f5f40"
      },
      "outputs": [
        {
          "output_type": "execute_result",
          "data": {
            "text/plain": [
              "array([291, 256, 340])"
            ]
          },
          "metadata": {},
          "execution_count": 19
        }
      ],
      "source": [
        "# Sum of each row.\n",
        "ratings.sum(axis=1)"
      ]
    },
    {
      "cell_type": "code",
      "execution_count": 20,
      "metadata": {
        "colab": {
          "base_uri": "https://localhost:8080/"
        },
        "id": "vqzMbWrI765m",
        "outputId": "d1c5acbe-299a-4cce-f2cb-1c5632ca6b18"
      },
      "outputs": [
        {
          "output_type": "execute_result",
          "data": {
            "text/plain": [
              "array([279, 275, 167, 166])"
            ]
          },
          "metadata": {},
          "execution_count": 20
        }
      ],
      "source": [
        "# Sum of each column.\n",
        "ratings.sum(axis=0)"
      ]
    },
    {
      "cell_type": "code",
      "execution_count": 21,
      "metadata": {
        "colab": {
          "base_uri": "https://localhost:8080/"
        },
        "id": "fUPF9_gD765m",
        "outputId": "86164a50-ef20-49c9-c294-b91ff706ae92"
      },
      "outputs": [
        {
          "output_type": "execute_result",
          "data": {
            "text/plain": [
              "array([45, 23, 56])"
            ]
          },
          "metadata": {},
          "execution_count": 21
        }
      ],
      "source": [
        "# Min of each row.\n",
        "ratings.min(axis=1)"
      ]
    },
    {
      "cell_type": "markdown",
      "metadata": {
        "id": "q7GCkqYB765m"
      },
      "source": [
        "### Example 8\n",
        "`argmax` and `argmin` are functions in NumPy used to find the indices of the maximum and minimum values, respectively, in an array.\n",
        "\n",
        "* `np.argmax(array, axis=None)`: This function returns the indices of the maximum value along an axis. If the axis is not specified, `argmax` will return the index of the maximum value in the flattened array. If the axis is specified (e.g. 0 for columns, 1 for rows in a 2D array), it will return the indices of the maximum values along that axis.\n",
        "* `np.argmin(array, axis=None)`: Similarly, `argmin` finds the indices of the minimum values. Without specifying an axis, it returns the index of the minimum value in the entire array. If an axis is specified, it returns the indices of the minimum values along that axis."
      ]
    },
    {
      "cell_type": "code",
      "execution_count": 25,
      "metadata": {
        "id": "wd4Dhidy765m"
      },
      "outputs": [],
      "source": [
        "# Finds the index of the maximum value in the entire array\n",
        "overall_max_index = np.argmax(ratings)"
      ]
    },
    {
      "cell_type": "code",
      "execution_count": 27,
      "metadata": {
        "id": "N-JWJ4sh765n"
      },
      "outputs": [],
      "source": [
        "# Finds the index of the minimum value along each column\n",
        "min_indices_per_column = np.argmin(ratings, axis=0)"
      ]
    },
    {
      "cell_type": "markdown",
      "metadata": {
        "id": "mmf26Y1P765n"
      },
      "source": [
        "### When to use NumPy arrays\n",
        "\n",
        "A NumPy array is a data structure which stores multiple values, all of the same data type, and can be multi-dimensional. We should use a NumPy array if both of the following statements hold:\n",
        "\n",
        "* We have multi-dimensional data.\n",
        "* All entries are of the same data type.\n",
        "\n",
        "NumPy arrays are also preferred over list of lists due to efficiency and functionality."
      ]
    },
    {
      "cell_type": "markdown",
      "metadata": {
        "id": "1gvnNjE0765n"
      },
      "source": [
        "## Additional resources\n",
        "\n",
        "- [Basic NumPy functionality](https://numpy.org/doc/stable/user/absolute_beginners.html#what-is-an-array)\n",
        "- [NumPy package home page](https://numpy.org)"
      ]
    },
    {
      "cell_type": "markdown",
      "metadata": {
        "id": "Zg4KlCUD765n"
      },
      "source": [
        "#  \n",
        "\n",
        "<div align=\"center\" style=\" font-size: 80%; text-align: center; margin: 0 auto\">\n",
        "<img src=\"https://raw.githubusercontent.com/Explore-AI/Pictures/refs/heads/master/ALX_banners/ALX_Navy.png\"  style=\"width:140px\";/>\n",
        "</div>"
      ]
    }
  ],
  "metadata": {
    "kernelspec": {
      "display_name": "Python 3",
      "language": "python",
      "name": "python3"
    },
    "language_info": {
      "codemirror_mode": {
        "name": "ipython",
        "version": 3
      },
      "file_extension": ".py",
      "mimetype": "text/x-python",
      "name": "python",
      "nbconvert_exporter": "python",
      "pygments_lexer": "ipython3",
      "version": "3.11.5"
    },
    "colab": {
      "provenance": [],
      "include_colab_link": true
    }
  },
  "nbformat": 4,
  "nbformat_minor": 0
}